{
 "cells": [
  {
   "cell_type": "markdown",
   "metadata": {
    "tags": [
     "AST"
    ]
   },
   "source": [
    "<style>\n",
    "    @media print{\n",
    "        body {\n",
    "            position:relative !important;\n",
    "        }\n",
    "        .celltag_new_page {\n",
    "            page-break-before: always !important;\n",
    "        }\n",
    "    }\n",
    "</style>\n",
    "# COMPSCI 371 Homework 3"
   ]
  },
  {
   "cell_type": "markdown",
   "metadata": {
    "tags": [
     "AT"
    ]
   },
   "source": [
    "### Problem 0 (3 points)"
   ]
  },
  {
   "cell_type": "markdown",
   "metadata": {
    "tags": [
     "AST"
    ]
   },
   "source": [
    "## Part 1: Gradient Descent with Analytic Line Search "
   ]
  },
  {
   "cell_type": "markdown",
   "metadata": {
    "tags": [
     "AST"
    ]
   },
   "source": [
    "### Problem 1.1 (Exam Style)\n",
    "\n",
    "Minimize $\\phi(\\alpha)=f(z_0 + \\alpha p)$"
   ]
  },
  {
   "cell_type": "markdown",
   "metadata": {},
   "source": [
    "We want to find the solution of $\\phi'(\\alpha)=0$ for $\\alpha$ nearest to 0. Let $z_0=$ $\\begin{bmatrix}\n",
    "1\\\\\n",
    "1\n",
    "\\end{bmatrix}$\n",
    "\n",
    "We will solve for\n",
    "$\\phi'(\\alpha)=f'(z_0 - \\alpha * \\nabla f(z_0)) = 0$"
   ]
  },
  {
   "cell_type": "markdown",
   "metadata": {},
   "source": [
    "$\\nabla f$=  $\\begin{bmatrix}\n",
    "2cos(x^2y^2-1)xy^2\\\\\n",
    "2cos(x^2y^2-1)x^2y\n",
    "\\end{bmatrix}$\n",
    "\n",
    "$\\nabla f(z_0)=$ $\\begin{bmatrix}\n",
    "2\\\\\n",
    "2\n",
    "\\end{bmatrix}$"
   ]
  },
  {
   "cell_type": "markdown",
   "metadata": {},
   "source": [
    "$\\phi'(\\alpha)=f'(\\begin{bmatrix}\n",
    "1-2\\alpha\\\\\n",
    "1-2\\alpha\n",
    "\\end{bmatrix}) =0$\n",
    "\n",
    "We then get\n",
    "$2cos((1-2\\alpha)^4-1)(1-2\\alpha)^3=0$\n",
    "\n",
    "$1-2\\alpha = 0$\n",
    "\n",
    "$\\alpha = 1/2$\n"
   ]
  },
  {
   "cell_type": "markdown",
   "metadata": {
    "tags": [
     "AST"
    ]
   },
   "source": [
    "### Problem 1.2"
   ]
  },
  {
   "cell_type": "markdown",
   "metadata": {
    "tags": [
     "AST"
    ]
   },
   "source": [
    "### Problem 1.3 (Exam Style)"
   ]
  },
  {
   "cell_type": "markdown",
   "metadata": {},
   "source": [
    "In our analytical approach, we are calculating the exact $\\alpha$ value that leads us to the first local minimum closest to $\\alpha=0$. However, in the numerical line search approach can output a different solution if there are more than 1 local minimum in bracket domain. Numerical line search can zone in on the other local min rather than the closest one to $\\alpha=0$. "
   ]
  },
  {
   "cell_type": "markdown",
   "metadata": {
    "tags": [
     "AST"
    ]
   },
   "source": [
    "### Problem 1.4 (Exam Style)"
   ]
  },
  {
   "cell_type": "markdown",
   "metadata": {},
   "source": [
    "We will examine the Gradient for $z_1=[0,0]$ and points around $z_1$\n",
    "\n",
    "Plugging in for Gradient, we have $\\nabla f(z_1) = [0,0]$\n",
    "\n",
    "When doing the second derivative test, we get 0, which is inconclusive. We will look at points around the $z_0$. The points along $f(0,\\epsilon)$ and $f(\\epsilon,)$ is also 0 (further inconclusive).\n",
    "\n",
    "We will look at $f(p,\\epsilon)$, $f(-p,\\epsilon)$, $f(\\epsilon, p)$, and $f(\\epsilon, -p)$, where $p$ represents a small value. \n"
   ]
  },
  {
   "cell_type": "markdown",
   "metadata": {},
   "source": [
    "$\\nabla f(p,\\epsilon) = [2cos(p*\\epsilon^2-1)p\\epsilon^2, 2cos(\\epsilon^2-1)\\epsilon]$, so the $f_x$ value is always positive and $f_y$ value has same sign as $\\epsilon$.\n",
    "\n",
    "When examining the other pairs, it has the same behavior, suggesting it is a minimum. \n",
    "\n",
    "When plotting the equation, we observe that $z_0$ is a minimum"
   ]
  },
  {
   "cell_type": "markdown",
   "metadata": {
    "tags": [
     "AST"
    ]
   },
   "source": [
    "### Problem 1.5 (Exam Style)"
   ]
  },
  {
   "cell_type": "markdown",
   "metadata": {},
   "source": [
    "The global minimum value $f(x,y) = sin(x^2y^2-1) = -1$, because the smallest value $sin$ can have is -1. \n",
    "\n",
    "\n",
    "$x^2y^2 - 1=3\\pi/2 * 2\\pi n$\n",
    "\n",
    "$x^2y^2 = 3\\pi/2 * 2\\pi n + 1$\n",
    "\n",
    "Plug in $\\alpha$ for x and y, we get $(-2\\alpha + 1)^4=3\\pi/2 * 2\\pi n + 1$\n",
    "\n",
    "$\\alpha=(1-(3\\pi/2+2\\pi n + 1)^{1/4})/2$\n",
    "\n",
    "The first global minimum is at $\\alpha_0=1.273$. The algebraic expression is the above $\\alpha$ equation, just plug in 0 for $n$. \n",
    "\n",
    "$z_1=z_0 - \\alpha * gradient(z_0)=[-1.546, -1.546]$\n",
    "\n",
    "$f(z_1) \\approxeq -1$"
   ]
  },
  {
   "cell_type": "markdown",
   "metadata": {
    "tags": [
     "AST"
    ]
   },
   "source": [
    "### Problem 1.6 (Exam Style)"
   ]
  },
  {
   "cell_type": "markdown",
   "metadata": {},
   "source": [
    "$z_1$ is a global minimum, but it is not the only global minimum. From our work in 1.5 above, we see that there are different values for $n$ and thus different values for $\\alpha$. Therefore, there are other such points $z$ where $f(x,y)=-1$"
   ]
  },
  {
   "cell_type": "markdown",
   "metadata": {
    "tags": [
     "AST"
    ]
   },
   "source": [
    "## Part 2: Gradient Descent"
   ]
  },
  {
   "cell_type": "code",
   "execution_count": 6,
   "metadata": {
    "tags": [
     "AST"
    ]
   },
   "outputs": [],
   "source": [
    "import numpy as np\n",
    "from matplotlib import pyplot as plt\n",
    "%matplotlib inline"
   ]
  },
  {
   "cell_type": "code",
   "execution_count": 7,
   "metadata": {
    "tags": [
     "AST"
    ]
   },
   "outputs": [],
   "source": [
    "def paraboloid(z, axes):\n",
    "    z2 = z * z\n",
    "    p = axes[0] * z2[0] + axes[1] * z2[1]\n",
    "    return p"
   ]
  },
  {
   "cell_type": "code",
   "execution_count": 8,
   "metadata": {
    "tags": [
     "AST"
    ]
   },
   "outputs": [],
   "source": [
    "def g_paraboloid(z, axes):\n",
    "    g = 2 * z * axes\n",
    "    return g"
   ]
  },
  {
   "cell_type": "code",
   "execution_count": 9,
   "metadata": {
    "tags": [
     "AST"
    ]
   },
   "outputs": [],
   "source": [
    "def make_bowl_functions(axes):\n",
    "    def f(z):\n",
    "        return paraboloid(z, axes)\n",
    "\n",
    "    def g(z):\n",
    "        return g_paraboloid(z, axes)\n",
    "\n",
    "    return f, g"
   ]
  },
  {
   "cell_type": "code",
   "execution_count": 10,
   "metadata": {
    "tags": [
     "AST"
    ]
   },
   "outputs": [],
   "source": [
    "bowl, g_bowl = make_bowl_functions((0.1, 1.))"
   ]
  },
  {
   "cell_type": "code",
   "execution_count": 11,
   "metadata": {
    "tags": [
     "AST"
    ]
   },
   "outputs": [],
   "source": [
    "def show_function(p, x_range=(-1.2, 1.2), y_range=(-1.2, 1.2), n=101, levels=10):\n",
    "    x = np.linspace(x_range[0], x_range[1], n)\n",
    "    y = np.linspace(y_range[0], y_range[1], n)\n",
    "    xx, yy = np.meshgrid(x, y)\n",
    "    zz = np.stack((xx, yy), axis=0)\n",
    "    pp = p(zz)\n",
    "    plt.contour(x, y, pp, levels=levels)\n",
    "    plt.plot(0., 0., '.', ms=8)\n",
    "    plt.axis('square')\n",
    "    plt.xticks([])\n",
    "    plt.yticks([])"
   ]
  },
  {
   "cell_type": "code",
   "execution_count": 12,
   "metadata": {
    "tags": [
     "AST"
    ]
   },
   "outputs": [],
   "source": [
    "def draw_circle(center=(0., 0.), radius=1., samples=300, color='r'):\n",
    "    omega = np.linspace(0., 2. * np.pi, samples)\n",
    "    x, y = np.cos(omega), np.sin(omega)\n",
    "    x = radius * x + center[0]\n",
    "    y = radius * y + center[1]\n",
    "    plt.plot(x, y, color=color)"
   ]
  },
  {
   "cell_type": "markdown",
   "metadata": {
    "tags": [
     "AST"
    ]
   },
   "source": [
    "### Problem 2.1"
   ]
  },
  {
   "cell_type": "markdown",
   "metadata": {
    "tags": [
     "AST"
    ]
   },
   "source": [
    "### Problem 2.2"
   ]
  },
  {
   "cell_type": "markdown",
   "metadata": {
    "tags": [
     "AST"
    ]
   },
   "source": [
    "### Problem 2.3"
   ]
  },
  {
   "cell_type": "markdown",
   "metadata": {
    "tags": [
     "AST"
    ]
   },
   "source": [
    "### Problem 2.4"
   ]
  }
 ],
 "metadata": {
  "kernelspec": {
   "display_name": "Python 3 (ipykernel)",
   "language": "python",
   "name": "python3"
  },
  "language_info": {
   "codemirror_mode": {
    "name": "ipython",
    "version": 3
   },
   "file_extension": ".py",
   "mimetype": "text/x-python",
   "name": "python",
   "nbconvert_exporter": "python",
   "pygments_lexer": "ipython3",
   "version": "3.9.7"
  },
  "pycharm": {
   "stem_cell": {
    "cell_type": "raw",
    "metadata": {
     "collapsed": false
    },
    "source": []
   }
  }
 },
 "nbformat": 4,
 "nbformat_minor": 2
}
