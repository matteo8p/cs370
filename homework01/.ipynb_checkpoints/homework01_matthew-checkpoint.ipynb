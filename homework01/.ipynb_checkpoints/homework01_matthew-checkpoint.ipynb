{
 "cells": [
  {
   "cell_type": "markdown",
   "metadata": {
    "tags": [
     "AST"
    ]
   },
   "source": [
    "<style>\n",
    "    @media print{\n",
    "        body {\n",
    "            position:relative !important;\n",
    "        }\n",
    "        .celltag_new_page {\n",
    "            page-break-before: always !important;\n",
    "        }\n",
    "    }\n",
    "</style>\n",
    "# COMPSCI 371 Homework 1"
   ]
  },
  {
   "cell_type": "markdown",
   "metadata": {
    "tags": [
     "AT"
    ]
   },
   "source": [
    "### Problem 0 (3 points)"
   ]
  },
  {
   "cell_type": "markdown",
   "metadata": {
    "tags": [
     "AST"
    ]
   },
   "source": [
    "## Part 1: Polynomial Fitting "
   ]
  },
  {
   "cell_type": "code",
   "execution_count": 1,
   "metadata": {
    "tags": [
     "AST"
    ]
   },
   "outputs": [],
   "source": [
    "import numpy as np\n",
    "from itertools import combinations_with_replacement as combos\n",
    "\n",
    "\n",
    "def monomials(d, k):\n",
    "    c = np.array(list(combos(range(d + 1), k)))\n",
    "    m = np.zeros((c.shape[0], d))\n",
    "    for j in range(d):\n",
    "        m[:, j] = np.sum(c == j, axis=1)\n",
    "    order = np.argsort(np.sum(m, axis=1))\n",
    "    return m[order]"
   ]
  },
  {
   "cell_type": "markdown",
   "metadata": {
    "tags": [
     "AST"
    ]
   },
   "source": [
    "### Problem 1.1 (Exam Style Except for the Code)"
   ]
  },
  {
   "cell_type": "markdown",
   "metadata": {},
   "source": [
    "$\n",
    "r=\\binom{d+k}{k} \\\\~\\\\\n",
    "$"
   ]
  },
  {
   "cell_type": "code",
   "execution_count": 2,
   "metadata": {},
   "outputs": [],
   "source": [
    "d_array = []\n",
    "k_array = []\n",
    "for i in range(0, 16): \n",
    "    d_array.append(i)\n",
    "for i in range(0, 9): \n",
    "    k_array.append(i)\n",
    "\n",
    "    "
   ]
  },
  {
   "cell_type": "code",
   "execution_count": 3,
   "metadata": {},
   "outputs": [
    {
     "data": {
      "text/plain": [
       "array([[     1,      1,      1,      1,      1,      1,      1,      1,\n",
       "             1],\n",
       "       [     1,      2,      3,      4,      5,      6,      7,      8,\n",
       "             9],\n",
       "       [     1,      3,      6,     10,     15,     21,     28,     36,\n",
       "            45],\n",
       "       [     1,      4,     10,     20,     35,     56,     84,    120,\n",
       "           165],\n",
       "       [     1,      5,     15,     35,     70,    126,    210,    330,\n",
       "           495],\n",
       "       [     1,      6,     21,     56,    126,    252,    462,    792,\n",
       "          1287],\n",
       "       [     1,      7,     28,     84,    210,    462,    924,   1716,\n",
       "          3003],\n",
       "       [     1,      8,     36,    120,    330,    792,   1716,   3432,\n",
       "          6435],\n",
       "       [     1,      9,     45,    165,    495,   1287,   3003,   6435,\n",
       "         12870],\n",
       "       [     1,     10,     55,    220,    715,   2002,   5005,  11440,\n",
       "         24310],\n",
       "       [     1,     11,     66,    286,   1001,   3003,   8008,  19448,\n",
       "         43758],\n",
       "       [     1,     12,     78,    364,   1365,   4368,  12376,  31824,\n",
       "         75582],\n",
       "       [     1,     13,     91,    455,   1820,   6188,  18564,  50388,\n",
       "        125970],\n",
       "       [     1,     14,    105,    560,   2380,   8568,  27132,  77520,\n",
       "        203490],\n",
       "       [     1,     15,    120,    680,   3060,  11628,  38760, 116280,\n",
       "        319770],\n",
       "       [     1,     16,    136,    816,   3876,  15504,  54264, 170544,\n",
       "        490314]])"
      ]
     },
     "execution_count": 3,
     "metadata": {},
     "output_type": "execute_result"
    }
   ],
   "source": [
    "import math \n",
    "\n",
    "combinations = []\n",
    "for d in d_array: \n",
    "    cur_row = []\n",
    "    for k in k_array: \n",
    "        cur_row.append(math.comb(d + k, k))\n",
    "    combinations.append(cur_row)\n",
    "np.array(combinations)"
   ]
  },
  {
   "cell_type": "markdown",
   "metadata": {
    "tags": [
     "AST"
    ]
   },
   "source": [
    "### Problem 1.2"
   ]
  },
  {
   "cell_type": "code",
   "execution_count": 4,
   "metadata": {
    "tags": [
     "AST"
    ]
   },
   "outputs": [
    {
     "name": "stdout",
     "output_type": "stream",
     "text": [
      "[ 1.    0.5  -0.2   0.1   0.25 -0.1   0.05  0.04 -0.02  0.01]\n"
     ]
    }
   ],
   "source": [
    "import math\n",
    "x = np.array([0.5, -0.2, 0.1])\n",
    "d, k = len(x), 2\n",
    "\n",
    "def evaluate_monomials(p, x):\n",
    "    vector = []\n",
    "    for monomial in p: \n",
    "        cur_product = 1\n",
    "        for col in range(0, len(x)): \n",
    "            cur_product *= math.pow(x[col], monomial[col])\n",
    "        vector.append(cur_product)\n",
    "    return np.array(vector)\n",
    "\n",
    "final_vector = evaluate_monomials(monomials(d, k), x)\n",
    "print(final_vector)\n",
    "\n",
    "assert (len(final_vector) == math.comb(d + k, k))\n"
   ]
  },
  {
   "cell_type": "markdown",
   "metadata": {
    "tags": [
     "AST"
    ]
   },
   "source": [
    "### Problem 1.3 (Exam Style if Table is Provided)"
   ]
  },
  {
   "cell_type": "code",
   "execution_count": 5,
   "metadata": {
    "tags": [
     "AST"
    ]
   },
   "outputs": [],
   "source": [
    "c = np.linspace(2, 0, 35)"
   ]
  },
  {
   "cell_type": "markdown",
   "metadata": {},
   "source": [
    "The length of c is 35 coefficients \n",
    "\n",
    "$\n",
    "d=3,k=4\n",
    "$\n",
    "\n",
    "$\n",
    "\\binom{d+k}{k} = \\binom{7}{4} = 35\n",
    "$"
   ]
  },
  {
   "cell_type": "markdown",
   "metadata": {
    "tags": [
     "AST"
    ]
   },
   "source": [
    "### Problem 1.4"
   ]
  },
  {
   "cell_type": "code",
   "execution_count": 6,
   "metadata": {},
   "outputs": [
    {
     "name": "stdout",
     "output_type": "stream",
     "text": [
      "3.230405882352941\n"
     ]
    }
   ],
   "source": [
    "x = np.array([0.5, -0.2, 0.1])\n",
    "d, k = len(x), 4\n",
    "\n",
    "def evaluate_polynomial(c, p, x):\n",
    "    # ensure that p is the appropriate output for \n",
    "    assert (len(c) == len(p))\n",
    "    y = 0 # initialize value to sum values of monomials\n",
    "    monomials = evaluate_monomials(p,x)\n",
    "    for i in range(len(c)):\n",
    "        y += monomials[i]*c[i]\n",
    "    return y\n",
    "    \n",
    "y = evaluate_polynomial(c, monomials(d,k), x)\n",
    "print(y)"
   ]
  },
  {
   "cell_type": "code",
   "execution_count": 24,
   "metadata": {},
   "outputs": [
    {
     "data": {
      "text/plain": [
       "array([[0., 0., 0.],\n",
       "       [0., 1., 0.],\n",
       "       [1., 0., 0.],\n",
       "       [0., 0., 1.],\n",
       "       [0., 0., 2.],\n",
       "       [0., 1., 1.],\n",
       "       [0., 2., 0.],\n",
       "       [2., 0., 0.],\n",
       "       [1., 0., 1.],\n",
       "       [1., 1., 0.],\n",
       "       [0., 0., 3.],\n",
       "       [0., 1., 2.],\n",
       "       [0., 2., 1.],\n",
       "       [0., 3., 0.],\n",
       "       [1., 0., 2.],\n",
       "       [1., 2., 0.],\n",
       "       [3., 0., 0.],\n",
       "       [2., 0., 1.],\n",
       "       [1., 1., 1.],\n",
       "       [2., 1., 0.],\n",
       "       [1., 1., 2.],\n",
       "       [3., 1., 0.],\n",
       "       [3., 0., 1.],\n",
       "       [0., 0., 4.],\n",
       "       [2., 2., 0.],\n",
       "       [2., 1., 1.],\n",
       "       [2., 0., 2.],\n",
       "       [0., 2., 2.],\n",
       "       [0., 3., 1.],\n",
       "       [0., 4., 0.],\n",
       "       [1., 3., 0.],\n",
       "       [1., 2., 1.],\n",
       "       [1., 0., 3.],\n",
       "       [0., 1., 3.],\n",
       "       [4., 0., 0.]])"
      ]
     },
     "execution_count": 24,
     "metadata": {},
     "output_type": "execute_result"
    }
   ],
   "source": []
  },
  {
   "cell_type": "markdown",
   "metadata": {
    "tags": [
     "AST"
    ]
   },
   "source": [
    "### Problem 1.5"
   ]
  },
  {
   "cell_type": "code",
   "execution_count": 77,
   "metadata": {
    "tags": [
     "AST"
    ]
   },
   "outputs": [],
   "source": [
    "n_train = 100\n",
    "a, b = 2., 3.\n",
    "sigma = 0.2\n",
    "x_train = np.sort(np.random.rand(n_train))\n",
    "noise = sigma * np.random.randn(n_train)\n",
    "y_train = a + b * x_train + noise\n",
    "x_train = np.expand_dims(x_train, axis=1)"
   ]
  },
  {
   "cell_type": "code",
   "execution_count": 117,
   "metadata": {},
   "outputs": [],
   "source": [
    "import math\n",
    "def fitting_matrix(p, X):\n",
    "    n = len(X)\n",
    "    matrix = []\n",
    "    for i in range(0, n): \n",
    "        matrix.append(evaluate_monomials(p, X[i]))\n",
    "    return np.array(matrix)\n",
    "\n",
    "def predict(c, k, X):\n",
    "    d = len(X[0])\n",
    "    fit_matrix = fitting_matrix(monomials(d,k), X)\n",
    "    y_predictions = []\n",
    "    for i in range(0, len(X)): \n",
    "        product = c * fit_matrix[i]\n",
    "        y_predictions.append(sum(product))\n",
    "    return np.array(y_predictions)\n",
    "    \n",
    "    \n",
    "def residual_error(c, k, X, y):\n",
    "    y_predictions = predict(c, k, X)\n",
    "    quadratic_loss = np.square(y - y_predictions)\n",
    "    emperical_risk = sum(quadratic_loss) / len(quadratic_loss)\n",
    "    return math.sqrt(emperical_risk)\n"
   ]
  },
  {
   "cell_type": "code",
   "execution_count": 122,
   "metadata": {},
   "outputs": [
    {
     "name": "stdout",
     "output_type": "stream",
     "text": [
      "A: 2.008446032653219\n",
      "B: 2.9345506887545216\n",
      "Residual Error: 0.1908675204026133\n"
     ]
    }
   ],
   "source": [
    "def fit(X, y, k):\n",
    "    d = len(X[0])\n",
    "    fit_matrix = fitting_matrix(monomials(d,k), X)\n",
    "    c = np.linalg.lstsq(fit_matrix, y, rcond=None)[0]\n",
    "    \n",
    "    res_error = residual_error(c, k, X, y)\n",
    "    return c, res_error\n",
    "\n",
    "fit_results = fit(x_train, y_train, 1)\n",
    "print(\"A: {}\\nB: {}\\nResidual Error: {}\".format(fit_results[0][0], fit_results[0][1], fit_results[1]))"
   ]
  },
  {
   "cell_type": "code",
   "execution_count": 126,
   "metadata": {},
   "outputs": [
    {
     "data": {
      "image/png": "[encoded data removed]",
      "text/plain": [
       "<Figure size 432x288 with 1 Axes>"
      ]
     },
     "metadata": {
      "needs_background": "light"
     },
     "output_type": "display_data"
    }
   ],
   "source": [
    "import matplotlib.pyplot as plt\n",
    "a_predict = fit_results[0][0]\n",
    "b_predict = fit_results[0][1]\n",
    "\n",
    "plt.plot(x_train, b_predict*x_train + a_predict, 'r', label='Solution Line')\n",
    "plt.plot(x_train, y_train, 'o', label='Training Data', markersize=5)\n",
    "plt.legend()\n",
    "plt.show()\n"
   ]
  },
  {
   "cell_type": "markdown",
   "metadata": {
    "tags": [
     "AST"
    ]
   },
   "source": [
    "### Problem 1.6"
   ]
  },
  {
   "cell_type": "code",
   "execution_count": 9,
   "metadata": {
    "tags": [
     "AST"
    ]
   },
   "outputs": [],
   "source": [
    "def eigen_data(n):\n",
    "    X = np.random.randn(n, 3)\n",
    "    matrices = np.reshape(X[:, [0, 1, 1, 2]], (n, 2, 2))\n",
    "    y = np.array([np.max(np.linalg.eig(matrix)[0]) for matrix in matrices])\n",
    "    return X, y"
   ]
  },
  {
   "cell_type": "code",
   "execution_count": 10,
   "metadata": {
    "tags": [
     "AST"
    ]
   },
   "outputs": [],
   "source": [
    "n_train, n_test = 100, 100\n",
    "x_train, y_train = eigen_data(n_train)\n",
    "x_test, y_test = eigen_data(n_test)"
   ]
  },
  {
   "cell_type": "markdown",
   "metadata": {
    "tags": [
     "AST"
    ]
   },
   "source": [
    "### Problem 1.7 (Exam Style)"
   ]
  },
  {
   "cell_type": "markdown",
   "metadata": {
    "tags": [
     "AST"
    ]
   },
   "source": [
    "## Part 2: Points in Many Dimensions"
   ]
  },
  {
   "cell_type": "code",
   "execution_count": 11,
   "metadata": {
    "tags": [
     "AST"
    ]
   },
   "outputs": [],
   "source": [
    "from math import gamma, sqrt\n",
    "\n",
    "def gaussian_sample(n, d):\n",
    "    mean = np.zeros(d)\n",
    "    mean_distance = 2 * gamma((d + 1) / 2) / gamma(d / 2) if d < 200 else sqrt(2 * d)\n",
    "    covariance = np.eye(d) / pow(mean_distance, 2)\n",
    "    return np.random.multivariate_normal(mean, covariance, size=n)"
   ]
  },
  {
   "cell_type": "code",
   "execution_count": 12,
   "metadata": {
    "tags": [
     "AST"
    ]
   },
   "outputs": [],
   "source": [
    "def show_histogram(x, d):\n",
    "    density, _, _ = plt.hist(x=x, bins='auto', density=True, rwidth=0.9)\n",
    "    mean = np.mean(x)\n",
    "    plt.grid(axis='y', alpha=0.75)\n",
    "    plt.xlabel('Distance')\n",
    "    plt.ylabel('Empirical Density')\n",
    "    format_string = '{} dimension{}. Mean distance {:.2f}'\n",
    "    plt.title(format_string.format(d, 's' if d > 1 else '', mean))"
   ]
  },
  {
   "cell_type": "markdown",
   "metadata": {
    "tags": [
     "AST"
    ]
   },
   "source": [
    "### Problem 2.1"
   ]
  },
  {
   "cell_type": "markdown",
   "metadata": {
    "tags": [
     "AST"
    ]
   },
   "source": [
    "### Problem 2.2"
   ]
  },
  {
   "cell_type": "markdown",
   "metadata": {
    "tags": [
     "AST"
    ]
   },
   "source": [
    "### Problem 2.3"
   ]
  },
  {
   "cell_type": "markdown",
   "metadata": {
    "tags": [
     "AST"
    ]
   },
   "source": [
    "### Problem 2.4"
   ]
  }
 ],
 "metadata": {
  "kernelspec": {
   "display_name": "Python 3 (ipykernel)",
   "language": "python",
   "name": "python3"
  },
  "language_info": {
   "codemirror_mode": {
    "name": "ipython",
    "version": 3
   },
   "file_extension": ".py",
   "mimetype": "text/x-python",
   "name": "python",
   "nbconvert_exporter": "python",
   "pygments_lexer": "ipython3",
   "version": "3.9.7"
  },
  "pycharm": {
   "stem_cell": {
    "cell_type": "raw",
    "metadata": {
     "collapsed": false
    },
    "source": []
   }
  }
 },
 "nbformat": 4,
 "nbformat_minor": 2
}
