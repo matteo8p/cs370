{
 "cells": [
  {
   "cell_type": "markdown",
   "metadata": {
    "tags": [
     "AST"
    ]
   },
   "source": [
    "<style>\n",
    "    @media print{\n",
    "        body {\n",
    "            position:relative !important;\n",
    "        }\n",
    "        .celltag_new_page {\n",
    "            page-break-before: always !important;\n",
    "        }\n",
    "    }\n",
    "</style>\n",
    "# COMPSCI 371 Homework 1"
   ]
  },
  {
   "cell_type": "markdown",
   "metadata": {},
   "source": [
    "Group Members: Brian Janger, Matthew Wang, Caleb Watson"
   ]
  },
  {
   "cell_type": "markdown",
   "metadata": {
    "tags": [
     "AT"
    ]
   },
   "source": [
    "### Problem 0 (3 points)"
   ]
  },
  {
   "cell_type": "markdown",
   "metadata": {
    "tags": [
     "AST"
    ]
   },
   "source": [
    "## Part 1: Polynomial Fitting "
   ]
  },
  {
   "cell_type": "code",
   "execution_count": 1,
   "metadata": {
    "tags": [
     "AST"
    ]
   },
   "outputs": [],
   "source": [
    "import numpy as np\n",
    "from itertools import combinations_with_replacement as combos\n",
    "\n",
    "\n",
    "def monomials(d, k):\n",
    "    c = np.array(list(combos(range(d + 1), k)))\n",
    "    m = np.zeros((c.shape[0], d))\n",
    "    for j in range(d):\n",
    "        m[:, j] = np.sum(c == j, axis=1)\n",
    "    order = np.argsort(np.sum(m, axis=1))\n",
    "    return m[order]"
   ]
  },
  {
   "cell_type": "markdown",
   "metadata": {
    "tags": [
     "AST"
    ]
   },
   "source": [
    "### Problem 1.1 (Exam Style Except for the Code)"
   ]
  },
  {
   "cell_type": "markdown",
   "metadata": {},
   "source": [
    "The number of rows $r$ returned by monomials is equal to the total number of monomials of degree up to $k$, or ${d+k}\\choose{k}$. "
   ]
  },
  {
   "cell_type": "code",
   "execution_count": 2,
   "metadata": {},
   "outputs": [],
   "source": [
    "# initializing arrays to hold combinations of d and k values\n",
    "d_array = []\n",
    "k_array = []\n",
    "for i in range(0, 16): \n",
    "    d_array.append(i)\n",
    "for i in range(0, 9): \n",
    "    k_array.append(i)"
   ]
  },
  {
   "cell_type": "code",
   "execution_count": 3,
   "metadata": {},
   "outputs": [
    {
     "name": "stdout",
     "output_type": "stream",
     "text": [
      "[[     1      1      1      1      1      1      1      1      1]\n",
      " [     1      2      3      4      5      6      7      8      9]\n",
      " [     1      3      6     10     15     21     28     36     45]\n",
      " [     1      4     10     20     35     56     84    120    165]\n",
      " [     1      5     15     35     70    126    210    330    495]\n",
      " [     1      6     21     56    126    252    462    792   1287]\n",
      " [     1      7     28     84    210    462    924   1716   3003]\n",
      " [     1      8     36    120    330    792   1716   3432   6435]\n",
      " [     1      9     45    165    495   1287   3003   6435  12870]\n",
      " [     1     10     55    220    715   2002   5005  11440  24310]\n",
      " [     1     11     66    286   1001   3003   8008  19448  43758]\n",
      " [     1     12     78    364   1365   4368  12376  31824  75582]\n",
      " [     1     13     91    455   1820   6188  18564  50388 125970]\n",
      " [     1     14    105    560   2380   8568  27132  77520 203490]\n",
      " [     1     15    120    680   3060  11628  38760 116280 319770]\n",
      " [     1     16    136    816   3876  15504  54264 170544 490314]]\n"
     ]
    }
   ],
   "source": [
    "import math \n",
    "\n",
    "# creating table containing all values of r for a given d and k \n",
    "combinations = []\n",
    "for d in d_array: \n",
    "    cur_row = []\n",
    "    for k in k_array: \n",
    "        cur_row.append(math.comb(d + k, k))\n",
    "    combinations.append(cur_row)\n",
    "print(np.array(combinations))"
   ]
  },
  {
   "cell_type": "markdown",
   "metadata": {
    "tags": [
     "AST"
    ]
   },
   "source": [
    "### Problem 1.2"
   ]
  },
  {
   "cell_type": "code",
   "execution_count": 4,
   "metadata": {
    "tags": [
     "AST"
    ]
   },
   "outputs": [
    {
     "name": "stdout",
     "output_type": "stream",
     "text": [
      "[ 1.    0.5  -0.2   0.1   0.25 -0.1   0.05  0.04 -0.02  0.01]\n"
     ]
    }
   ],
   "source": [
    "x = np.array([0.5, -0.2, 0.1])\n",
    "d, k = len(x), 2\n",
    "\n",
    "def evaluate_monomials(p, x):\n",
    "    assert (len(x) == len(p[0])) #assures that monomial and vector sizes are consistent\n",
    "    vector = []\n",
    "    for monomial in p: \n",
    "        # resets the variable storing product of evaluating vector x at a given monomial \n",
    "        cur_product = 1\n",
    "        for col in range(0, len(x)): \n",
    "            cur_product *= math.pow(x[col], monomial[col])\n",
    "        vector.append(cur_product)\n",
    "    return np.array(vector)\n",
    "\n",
    "final_vector = evaluate_monomials(monomials(d, k), x)\n",
    "print(final_vector)\n",
    "\n",
    "assert (len(final_vector) == math.comb(d + k, k))"
   ]
  },
  {
   "cell_type": "markdown",
   "metadata": {
    "tags": [
     "AST"
    ]
   },
   "source": [
    "### Problem 1.3 (Exam Style if Table is Provided)"
   ]
  },
  {
   "cell_type": "code",
   "execution_count": 5,
   "metadata": {
    "tags": [
     "AST"
    ]
   },
   "outputs": [],
   "source": [
    "c = np.linspace(2, 0, 35)"
   ]
  },
  {
   "cell_type": "markdown",
   "metadata": {},
   "source": [
    "The length of c is 35 coefficients. Given we are referencing vector $x$ of the previous problem with 3 entries, we know the total number of independent variables $d=3$. Using the above table, we can see that $k$ must be equal to 4, such that $\\binom{d+k}{k} = \\binom{3+k}{k} = \\binom{7}{4} = 35$."
   ]
  },
  {
   "cell_type": "markdown",
   "metadata": {
    "tags": [
     "AST"
    ]
   },
   "source": [
    "### Problem 1.4"
   ]
  },
  {
   "cell_type": "code",
   "execution_count": 6,
   "metadata": {},
   "outputs": [
    {
     "name": "stdout",
     "output_type": "stream",
     "text": [
      "The approximate value for y is: 3.230406\n"
     ]
    }
   ],
   "source": [
    "x = np.array([0.5, -0.2, 0.1])\n",
    "d, k = len(x), 4\n",
    "\n",
    "def evaluate_polynomial(c, p, x):\n",
    "    # ensure that p is the appropriate output for \n",
    "    assert (len(c) == len(p))\n",
    "    y = 0 # initialize value to sum values of monomials\n",
    "    monomials = evaluate_monomials(p,x)\n",
    "    for i in range(len(c)):\n",
    "        y += monomials[i]*c[i]\n",
    "    return y\n",
    "    \n",
    "y = evaluate_polynomial(c, monomials(d,k), x)\n",
    "print(\"The approximate value for y is: %f\" % y)"
   ]
  },
  {
   "cell_type": "markdown",
   "metadata": {
    "tags": [
     "AST"
    ]
   },
   "source": [
    "### Problem 1.5"
   ]
  },
  {
   "cell_type": "code",
   "execution_count": 7,
   "metadata": {
    "tags": [
     "AST"
    ]
   },
   "outputs": [],
   "source": [
    "n_train = 100\n",
    "a, b = 2., 3.\n",
    "sigma = 0.2\n",
    "x_train = np.sort(np.random.rand(n_train))\n",
    "noise = sigma * np.random.randn(n_train)\n",
    "y_train = a + b * x_train + noise\n",
    "x_train = np.expand_dims(x_train, axis=1)"
   ]
  },
  {
   "cell_type": "code",
   "execution_count": 8,
   "metadata": {},
   "outputs": [],
   "source": [
    "import math\n",
    "# computing matrix of the linear system to be solved\n",
    "def fitting_matrix(p, X):\n",
    "    n = len(X)\n",
    "    matrix = []\n",
    "    for i in range(0, n): \n",
    "        matrix.append(evaluate_monomials(p, X[i]))\n",
    "    return np.array(matrix)\n",
    "\n",
    "def predict(c, k, X):\n",
    "    d = len(X[0])\n",
    "    fit_matrix = fitting_matrix(monomials(d,k), X)\n",
    "    y_predictions = []\n",
    "    for i in range(0, len(X)): \n",
    "        product = c * fit_matrix[i]\n",
    "        y_predictions.append(sum(product))\n",
    "    return np.array(y_predictions)   \n",
    "    \n",
    "def residual_error(c, k, X, y):\n",
    "    y_predictions = predict(c, k, X)\n",
    "    quadratic_loss = np.square(y - y_predictions)\n",
    "    emperical_risk = sum(quadratic_loss) / len(quadratic_loss)\n",
    "    return math.sqrt(emperical_risk) # returning square root of the empirical risk"
   ]
  },
  {
   "cell_type": "code",
   "execution_count": 9,
   "metadata": {},
   "outputs": [
    {
     "name": "stdout",
     "output_type": "stream",
     "text": [
      "A: 2.01935581663826\n",
      "B: 2.9933128489108896\n",
      "Residual Error: 0.1734768645477612\n"
     ]
    }
   ],
   "source": [
    "def fit(X, y, k):\n",
    "    d = len(X[0])\n",
    "    fit_matrix = fitting_matrix(monomials(d,k), X)\n",
    "    c = np.linalg.lstsq(fit_matrix, y, rcond=None)[0]\n",
    "    \n",
    "    res_error = residual_error(c, k, X, y)\n",
    "    return c, res_error\n",
    "\n",
    "fit_results = fit(x_train, y_train, 1)\n",
    "print(\"A: {}\\nB: {}\\nResidual Error: {}\".format(fit_results[0][0], fit_results[0][1], fit_results[1]))"
   ]
  },
  {
   "cell_type": "markdown",
   "metadata": {
    "tags": [
     "AST"
    ]
   },
   "source": [
    "This is about what we expected for the values of A and B, since the initial equation we put in for the training data was $y = 2 + 3x$. Our trained model was fairly close to the actual model."
   ]
  },
  {
   "cell_type": "code",
   "execution_count": 10,
   "metadata": {},
   "outputs": [
    {
     "data": {
      "image/png": "[encoded data removed]",
      "text/plain": [
       "<Figure size 432x288 with 1 Axes>"
      ]
     },
     "metadata": {
      "needs_background": "light"
     },
     "output_type": "display_data"
    }
   ],
   "source": [
    "import matplotlib.pyplot as plt\n",
    "a_predict = fit_results[0][0]\n",
    "b_predict = fit_results[0][1]\n",
    "\n",
    "plt.plot(x_train, b_predict*x_train + a_predict, 'r', label='Solution Line')\n",
    "plt.plot(x_train, y_train, 'o', label='Training Data', markersize=5)\n",
    "plt.legend()\n",
    "plt.show()"
   ]
  },
  {
   "cell_type": "markdown",
   "metadata": {
    "tags": [
     "AST"
    ]
   },
   "source": [
    "### Problem 1.6"
   ]
  },
  {
   "cell_type": "code",
   "execution_count": 11,
   "metadata": {
    "tags": [
     "AST"
    ]
   },
   "outputs": [],
   "source": [
    "def eigen_data(n):\n",
    "    X = np.random.randn(n, 3)\n",
    "    matrices = np.reshape(X[:, [0, 1, 1, 2]], (n, 2, 2))\n",
    "    y = np.array([np.max(np.linalg.eig(matrix)[0]) for matrix in matrices])\n",
    "    return X, y"
   ]
  },
  {
   "cell_type": "code",
   "execution_count": 12,
   "metadata": {
    "tags": [
     "AST"
    ]
   },
   "outputs": [],
   "source": [
    "n_train, n_test = 100, 100\n",
    "x_train, y_train = eigen_data(n_train)\n",
    "x_test, y_test = eigen_data(n_test)"
   ]
  },
  {
   "cell_type": "code",
   "execution_count": 13,
   "metadata": {},
   "outputs": [
    {
     "data": {
      "image/png": "[encoded data removed]",
      "text/plain": [
       "<Figure size 432x288 with 1 Axes>"
      ]
     },
     "metadata": {
      "needs_background": "light"
     },
     "output_type": "display_data"
    }
   ],
   "source": [
    "import matplotlib.pyplot as plt\n",
    "\n",
    "k_polynomials = []\n",
    "for i in range(0, 11): \n",
    "    k_polynomials.append(i)\n",
    "\n",
    "# Generating residual errors for training set \n",
    "training_residual_errors = []\n",
    "testing_residual_errors = []\n",
    "for k in k_polynomials: \n",
    "    c, res_error = fit(x_train, y_train, k)\n",
    "    training_residual_errors.append(res_error)\n",
    "    res_error_test = residual_error(c, k, x_test, y_test)\n",
    "    testing_residual_errors.append(res_error_test)\n",
    "\n",
    "plt.semilogy(k_polynomials, training_residual_errors, 'bo', label='Training')\n",
    "plt.semilogy(k_polynomials, testing_residual_errors, 'go', label='Testing')\n",
    "plt.ylabel('Residual Error')\n",
    "plt.xlabel('k')\n",
    "plt.legend()\n",
    "plt.show()\n",
    "    "
   ]
  },
  {
   "cell_type": "markdown",
   "metadata": {
    "tags": [
     "AST"
    ]
   },
   "source": [
    "### Problem 1.7 (Exam Style)\n",
    "\n",
    "**1.** The eigenvalues of a matrix are indicators that tell us the variance of the data in particular directions, namely, the corresponding eigenvectors to the eigenvalues. When working with the data, the only way for the predictor to do perfectly on the test data is if we see only $\\lambda = 0$ as an eigenvalue, meaning there is no variance in any direction in the data. This is not the case, as symmetric matrices (the ones we work with in Problem 1.6) have non-zero eigenvalues (with the assumption that the symmetric matrix is nonzero). Thus, there must be at least some variance in a direction in the testing data, which means there is some irreducible error we cannot avoid on the test set, regardless of how flexible our model is or how large the training set is.\n",
    "\n",
    "**2.** As we can see on the plot provided from Problem 1.6, the predictor starts to perform nearly exactly starting with polynomial degree $k=7$, which is likely a symptom of model overfitting since the testing residual error continues to increase as $k$ increases past 7. The training risk is essentially zero as we increase past degree $k=7$ because adding more degrees or parameters to a model only makes it more vulnerable to overfitting, so the models will continue to match the training data nearly perfectly.\n",
    "\n",
    "**3.** We would use a predictor with $k=2$ because according to our plot in Problem 1.6, a degree of 2 had the lowest residual error (when working with the test data), which means that it performed better than all of the other predictors with different degrees.\n",
    "\n",
    "**4.** Below, we can see the residual error for the predictor with the lowest residual error (found to be of degree k=2):"
   ]
  },
  {
   "cell_type": "code",
   "execution_count": 14,
   "metadata": {},
   "outputs": [
    {
     "name": "stdout",
     "output_type": "stream",
     "text": [
      "Degree with Lowest Test Residual Error: k = 2\n",
      "Residual Error at Degree: 0.1760009691688679\n"
     ]
    }
   ],
   "source": [
    "print(\"Degree with Lowest Test Residual Error: k = \" + str(np.argmin(testing_residual_errors)))\n",
    "print(\"Residual Error at Degree: \" + str(testing_residual_errors[np.argmin(testing_residual_errors)]))"
   ]
  },
  {
   "cell_type": "markdown",
   "metadata": {
    "tags": [
     "AST"
    ]
   },
   "source": [
    "We can see that the residual error is quite low. The error indicates the average distance the test points differ from the points on our prediction model trained on the training data. This means that on average, our model predicted points within about $2*10^{-2}$ units from the actual value when the test data was applied.\n",
    "\n",
    "Furthermore, we visually saw a model in Problem 1.5 which had a similar residual error to the model we are looking at in this problem, and visually the fit appears to be very good! Therefore, we'll conclude that the residual error for the predictor with degree $k=2$ indicates that the model performs well."
   ]
  },
  {
   "cell_type": "markdown",
   "metadata": {
    "tags": [
     "AST"
    ]
   },
   "source": [
    "## Part 2: Points in Many Dimensions"
   ]
  },
  {
   "cell_type": "code",
   "execution_count": 15,
   "metadata": {
    "tags": [
     "AST"
    ]
   },
   "outputs": [],
   "source": [
    "from math import gamma, sqrt\n",
    "from matplotlib import pyplot as plt\n",
    "\n",
    "def gaussian_sample(n, d):\n",
    "    mean = np.zeros(d)\n",
    "    mean_distance = 2 * gamma((d + 1) / 2) / gamma(d / 2) if d < 200 else sqrt(2 * d)\n",
    "    covariance = np.eye(d) / pow(mean_distance, 2)\n",
    "    return np.random.multivariate_normal(mean, covariance, size=n)"
   ]
  },
  {
   "cell_type": "code",
   "execution_count": 16,
   "metadata": {
    "tags": [
     "AST"
    ]
   },
   "outputs": [],
   "source": [
    "def show_histogram(x, d):\n",
    "    density, _, _ = plt.hist(x=x, bins='auto', density=True, rwidth=0.9)\n",
    "    mean = np.mean(x)\n",
    "    plt.grid(axis='y', alpha=0.75)\n",
    "    plt.xlabel('Distance')\n",
    "    plt.ylabel('Empirical Density')\n",
    "    format_string = '{} dimension{}. Mean distance {:.2f}'\n",
    "    plt.title(format_string.format(d, 's' if d > 1 else '', mean))"
   ]
  },
  {
   "cell_type": "markdown",
   "metadata": {
    "tags": [
     "AST"
    ]
   },
   "source": [
    "### Problem 2.1"
   ]
  },
  {
   "cell_type": "code",
   "execution_count": 17,
   "metadata": {},
   "outputs": [
    {
     "data": {
      "image/png": "[encoded data removed]",
      "text/plain": [
       "<Figure size 432x288 with 1 Axes>"
      ]
     },
     "metadata": {
      "needs_background": "light"
     },
     "output_type": "display_data"
    }
   ],
   "source": [
    "def distances(points):\n",
    "    euc_distances = []\n",
    "    for point1 in range(len(points)):\n",
    "        # prevents zero distance between a point and itself from being included\n",
    "        for point2 in range(point1+1, len(points)):\n",
    "            # calculating euclidiean distance\n",
    "            euc_distances.append(np.sqrt(np.sum(np.square(points[point1]-points[point2]))))\n",
    "    return euc_distances              \n",
    "    \n",
    "# generating histogram from a Gaussian distribution of 300 points in 2 dimensions\n",
    "test_points = gaussian_sample(300, 2)   \n",
    "dist = distances(test_points)\n",
    "show_histogram(test_points, 2)"
   ]
  },
  {
   "cell_type": "markdown",
   "metadata": {
    "tags": [
     "AST"
    ]
   },
   "source": [
    "### Problem 2.2"
   ]
  },
  {
   "cell_type": "code",
   "execution_count": 18,
   "metadata": {},
   "outputs": [
    {
     "data": {
      "image/png": "[encoded data removed]",
      "text/plain": [
       "<Figure size 432x288 with 3 Axes>"
      ]
     },
     "metadata": {
      "needs_background": "light"
     },
     "output_type": "display_data"
    }
   ],
   "source": [
    "test_points_10 = gaussian_sample(300, 10)\n",
    "dist_10 = distances(test_points_10)\n",
    "\n",
    "test_points_100 = gaussian_sample(300, 100)\n",
    "dist_100 = distances(test_points_100)\n",
    "\n",
    "test_points_1000 = gaussian_sample(300, 1000)\n",
    "dist_1000 = distances(test_points_1000)\n",
    "\n",
    "plt.subplots_adjust(left = 0, right = 2, wspace=.3)\n",
    "\n",
    "plt.subplot(1,3,1)\n",
    "show_histogram(test_points_10, 10)\n",
    "\n",
    "plt.subplot(1,3,2)\n",
    "show_histogram(test_points_100, 100)\n",
    "\n",
    "plt.subplot(1,3,3)\n",
    "show_histogram(test_points_1000, 1000)\n",
    "\n",
    "plt.tight_layout()\n",
    "\n",
    "# means for all dimensions were 0.00"
   ]
  },
  {
   "cell_type": "markdown",
   "metadata": {
    "tags": [
     "AST"
    ]
   },
   "source": [
    "### Problem 2.3"
   ]
  },
  {
   "cell_type": "markdown",
   "metadata": {},
   "source": [
    "The empirical distributions in the previous two problems suggest that as dimensionality increases, the absciass from the mean Euclidean distance of zero decreases as can be determined from the decreasing distances on the x-axis. "
   ]
  },
  {
   "cell_type": "markdown",
   "metadata": {
    "tags": [
     "AST"
    ]
   },
   "source": [
    "### Problem 2.4"
   ]
  },
  {
   "cell_type": "markdown",
   "metadata": {},
   "source": [
    "As we observe in the previous part, as dimensionality of the domain increases, the standard deviation of the normal Gaussian distribution of domain $X$ from the mean decreases. These observations confirm why determination of the nearest-neighbor classifier by the Euclidean metric would degrade as the dimensionality becomes increasingly large. For more efficient classification by nearest-neighbors, we would want a wider Gaussian distribution to better distinguish two distinct data points from the training set $T$, as the quality of our training set classification will influence the ability of the algorithm to infer about new data points. "
   ]
  }
 ],
 "metadata": {
  "kernelspec": {
   "display_name": "Python 3 (ipykernel)",
   "language": "python",
   "name": "python3"
  },
  "language_info": {
   "codemirror_mode": {
    "name": "ipython",
    "version": 3
   },
   "file_extension": ".py",
   "mimetype": "text/x-python",
   "name": "python",
   "nbconvert_exporter": "python",
   "pygments_lexer": "ipython3",
   "version": "3.9.12"
  },
  "pycharm": {
   "stem_cell": {
    "cell_type": "raw",
    "metadata": {
     "collapsed": false
    },
    "source": []
   }
  }
 },
 "nbformat": 4,
 "nbformat_minor": 2
}
