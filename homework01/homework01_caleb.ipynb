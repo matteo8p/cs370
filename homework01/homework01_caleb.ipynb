{
 "cells": [
  {
   "cell_type": "markdown",
   "metadata": {
    "tags": [
     "AST"
    ]
   },
   "source": [
    "<style>\n",
    "    @media print{\n",
    "        body {\n",
    "            position:relative !important;\n",
    "        }\n",
    "        .celltag_new_page {\n",
    "            page-break-before: always !important;\n",
    "        }\n",
    "    }\n",
    "</style>\n",
    "# COMPSCI 371 Homework 1"
   ]
  },
  {
   "cell_type": "markdown",
   "metadata": {},
   "source": [
    "Group Members: Brian Janger, Matthew Wang, Caleb Watson"
   ]
  },
  {
   "cell_type": "markdown",
   "metadata": {
    "tags": [
     "AT"
    ]
   },
   "source": [
    "### Problem 0 (3 points)"
   ]
  },
  {
   "cell_type": "markdown",
   "metadata": {
    "tags": [
     "AST"
    ]
   },
   "source": [
    "## Part 1: Polynomial Fitting "
   ]
  },
  {
   "cell_type": "code",
   "execution_count": 38,
   "metadata": {
    "tags": [
     "AST"
    ]
   },
   "outputs": [],
   "source": [
    "import numpy as np\n",
    "from itertools import combinations_with_replacement as combos\n",
    "\n",
    "\n",
    "def monomials(d, k):\n",
    "    c = np.array(list(combos(range(d + 1), k)))\n",
    "    m = np.zeros((c.shape[0], d))\n",
    "    for j in range(d):\n",
    "        m[:, j] = np.sum(c == j, axis=1)\n",
    "    order = np.argsort(np.sum(m, axis=1))\n",
    "    return m[order]"
   ]
  },
  {
   "cell_type": "markdown",
   "metadata": {
    "tags": [
     "AST"
    ]
   },
   "source": [
    "### Problem 1.1 (Exam Style Except for the Code)"
   ]
  },
  {
   "cell_type": "markdown",
   "metadata": {},
   "source": [
    "The number of rows $r$ returned by monomials is equal to the total number of monomials of degree up to $k$, or ${d+k}\\choose{k}$. "
   ]
  },
  {
   "cell_type": "code",
   "execution_count": 3,
   "metadata": {},
   "outputs": [],
   "source": [
    "# initializing arrays to hold combinations of d and k values\n",
    "d_array = []\n",
    "k_array = []\n",
    "for i in range(0, 16): \n",
    "    d_array.append(i)\n",
    "for i in range(0, 9): \n",
    "    k_array.append(i)"
   ]
  },
  {
   "cell_type": "code",
   "execution_count": 4,
   "metadata": {},
   "outputs": [
    {
     "name": "stdout",
     "output_type": "stream",
     "text": [
      "[[     1      1      1      1      1      1      1      1      1]\n",
      " [     1      2      3      4      5      6      7      8      9]\n",
      " [     1      3      6     10     15     21     28     36     45]\n",
      " [     1      4     10     20     35     56     84    120    165]\n",
      " [     1      5     15     35     70    126    210    330    495]\n",
      " [     1      6     21     56    126    252    462    792   1287]\n",
      " [     1      7     28     84    210    462    924   1716   3003]\n",
      " [     1      8     36    120    330    792   1716   3432   6435]\n",
      " [     1      9     45    165    495   1287   3003   6435  12870]\n",
      " [     1     10     55    220    715   2002   5005  11440  24310]\n",
      " [     1     11     66    286   1001   3003   8008  19448  43758]\n",
      " [     1     12     78    364   1365   4368  12376  31824  75582]\n",
      " [     1     13     91    455   1820   6188  18564  50388 125970]\n",
      " [     1     14    105    560   2380   8568  27132  77520 203490]\n",
      " [     1     15    120    680   3060  11628  38760 116280 319770]\n",
      " [     1     16    136    816   3876  15504  54264 170544 490314]]\n"
     ]
    }
   ],
   "source": [
    "import math \n",
    "\n",
    "# creating table containing all values of r for a given d and k \n",
    "combinations = []\n",
    "for d in d_array: \n",
    "    cur_row = []\n",
    "    for k in k_array: \n",
    "        cur_row.append(math.comb(d + k, k))\n",
    "    combinations.append(cur_row)\n",
    "print(np.array(combinations))"
   ]
  },
  {
   "cell_type": "markdown",
   "metadata": {
    "tags": [
     "AST"
    ]
   },
   "source": [
    "### Problem 1.2"
   ]
  },
  {
   "cell_type": "code",
   "execution_count": 15,
   "metadata": {
    "tags": [
     "AST"
    ]
   },
   "outputs": [
    {
     "name": "stdout",
     "output_type": "stream",
     "text": [
      "[ 1.    0.5  -0.2   0.1   0.25 -0.1   0.05  0.04 -0.02  0.01]\n"
     ]
    }
   ],
   "source": [
    "x = np.array([0.5, -0.2, 0.1])\n",
    "d, k = len(x), 2\n",
    "\n",
    "def evaluate_monomials(p, x):\n",
    "    assert (len(x) == len(p[0])) #assures that monomial and vector sizes are consistent\n",
    "    vector = []\n",
    "    for monomial in p: \n",
    "        # resets the variable storing product of evaluating vector x at a given monomial \n",
    "        cur_product = 1\n",
    "        for col in range(0, len(x)): \n",
    "            cur_product *= math.pow(x[col], monomial[col])\n",
    "        vector.append(cur_product)\n",
    "    return np.array(vector)\n",
    "\n",
    "final_vector = evaluate_monomials(monomials(d, k), x)\n",
    "print(final_vector)\n",
    "\n",
    "assert (len(final_vector) == math.comb(d + k, k))"
   ]
  },
  {
   "cell_type": "markdown",
   "metadata": {
    "tags": [
     "AST"
    ]
   },
   "source": [
    "### Problem 1.3 (Exam Style if Table is Provided)"
   ]
  },
  {
   "cell_type": "code",
   "execution_count": 6,
   "metadata": {
    "tags": [
     "AST"
    ]
   },
   "outputs": [],
   "source": [
    "c = np.linspace(2, 0, 35)"
   ]
  },
  {
   "cell_type": "markdown",
   "metadata": {},
   "source": [
    "The length of c is 35 coefficient. Given we are referencing vector $x$ of the previous problem with 3 entries, we know the total number of independent variables $d=3$. Using the above table, we can see that $k$ must be equal to 4, such that $\\binom{d+k}{k} = \\binom{3+k}{k} = \\binom{7}{4} = 35$."
   ]
  },
  {
   "cell_type": "markdown",
   "metadata": {
    "tags": [
     "AST"
    ]
   },
   "source": [
    "### Problem 1.4"
   ]
  },
  {
   "cell_type": "code",
   "execution_count": 8,
   "metadata": {},
   "outputs": [
    {
     "name": "stdout",
     "output_type": "stream",
     "text": [
      "The value of y is: 3.230406\n"
     ]
    }
   ],
   "source": [
    "x = np.array([0.5, -0.2, 0.1])\n",
    "d, k = len(x), 4\n",
    "\n",
    "def evaluate_polynomial(c, p, x):\n",
    "    # ensure that p is the appropriate output for \n",
    "    assert (len(c) == len(p))\n",
    "    y = 0 # initialize value to sum values of monomials\n",
    "    monomials = evaluate_monomials(p,x)\n",
    "    for i in range(len(c)):\n",
    "        y += monomials[i]*c[i]\n",
    "    return y\n",
    "    \n",
    "y = evaluate_polynomial(c, monomials(d,k), x)\n",
    "print(\"The value of y is: %f\" % y)"
   ]
  },
  {
   "cell_type": "markdown",
   "metadata": {
    "tags": [
     "AST"
    ]
   },
   "source": [
    "### Problem 1.5"
   ]
  },
  {
   "cell_type": "code",
   "execution_count": 24,
   "metadata": {
    "tags": [
     "AST"
    ]
   },
   "outputs": [],
   "source": [
    "n_train = 100\n",
    "a, b = 2., 3.\n",
    "sigma = 0.2\n",
    "x_train = np.sort(np.random.rand(n_train))\n",
    "noise = sigma * np.random.randn(n_train)\n",
    "y_train = a + b * x_train + noise\n",
    "x_train = np.expand_dims(x_train, axis=1)"
   ]
  },
  {
   "cell_type": "code",
   "execution_count": 44,
   "metadata": {},
   "outputs": [
    {
     "ename": "LinAlgError",
     "evalue": "1-dimensional array given. Array must be two-dimensional",
     "output_type": "error",
     "traceback": [
      "\u001b[0;31m---------------------------------------------------------------------------\u001b[0m",
      "\u001b[0;31mLinAlgError\u001b[0m                               Traceback (most recent call last)",
      "Input \u001b[0;32mIn [44]\u001b[0m, in \u001b[0;36m<cell line: 16>\u001b[0;34m()\u001b[0m\n\u001b[1;32m     14\u001b[0m \u001b[38;5;66;03m# plotting the points in the training data and the solution line\u001b[39;00m\n\u001b[1;32m     15\u001b[0m plt\u001b[38;5;241m.\u001b[39mplot(x_train, y_train, \u001b[38;5;124m'\u001b[39m\u001b[38;5;124m.\u001b[39m\u001b[38;5;124m'\u001b[39m)\n\u001b[0;32m---> 16\u001b[0m w \u001b[38;5;241m=\u001b[39m \u001b[43mnp\u001b[49m\u001b[38;5;241;43m.\u001b[39;49m\u001b[43mlinalg\u001b[49m\u001b[38;5;241;43m.\u001b[39;49m\u001b[43mlstsq\u001b[49m\u001b[43m(\u001b[49m\u001b[43mfit_matrix\u001b[49m\u001b[43m,\u001b[49m\u001b[43m \u001b[49m\u001b[43my_train\u001b[49m\u001b[43m,\u001b[49m\u001b[43m \u001b[49m\u001b[43mrcond\u001b[49m\u001b[38;5;241;43m=\u001b[39;49m\u001b[38;5;28;43;01mNone\u001b[39;49;00m\u001b[43m)\u001b[49m[\u001b[38;5;241m0\u001b[39m]\n\u001b[1;32m     17\u001b[0m line \u001b[38;5;241m=\u001b[39m w[\u001b[38;5;241m0\u001b[39m]\u001b[38;5;241m*\u001b[39mx \u001b[38;5;241m+\u001b[39m w[\u001b[38;5;241m1\u001b[39m] \u001b[38;5;66;03m# regression solution line \u001b[39;00m\n\u001b[1;32m     18\u001b[0m plt\u001b[38;5;241m.\u001b[39mplot(x, line, \u001b[38;5;124m'\u001b[39m\u001b[38;5;124mr-\u001b[39m\u001b[38;5;124m'\u001b[39m)\n",
      "File \u001b[0;32m<__array_function__ internals>:5\u001b[0m, in \u001b[0;36mlstsq\u001b[0;34m(*args, **kwargs)\u001b[0m\n",
      "File \u001b[0;32m~/opt/anaconda3/lib/python3.9/site-packages/numpy/linalg/linalg.py:2271\u001b[0m, in \u001b[0;36mlstsq\u001b[0;34m(a, b, rcond)\u001b[0m\n\u001b[1;32m   2269\u001b[0m \u001b[38;5;28;01mif\u001b[39;00m is_1d:\n\u001b[1;32m   2270\u001b[0m     b \u001b[38;5;241m=\u001b[39m b[:, newaxis]\n\u001b[0;32m-> 2271\u001b[0m \u001b[43m_assert_2d\u001b[49m\u001b[43m(\u001b[49m\u001b[43ma\u001b[49m\u001b[43m,\u001b[49m\u001b[43m \u001b[49m\u001b[43mb\u001b[49m\u001b[43m)\u001b[49m\n\u001b[1;32m   2272\u001b[0m m, n \u001b[38;5;241m=\u001b[39m a\u001b[38;5;241m.\u001b[39mshape[\u001b[38;5;241m-\u001b[39m\u001b[38;5;241m2\u001b[39m:]\n\u001b[1;32m   2273\u001b[0m m2, n_rhs \u001b[38;5;241m=\u001b[39m b\u001b[38;5;241m.\u001b[39mshape[\u001b[38;5;241m-\u001b[39m\u001b[38;5;241m2\u001b[39m:]\n",
      "File \u001b[0;32m~/opt/anaconda3/lib/python3.9/site-packages/numpy/linalg/linalg.py:190\u001b[0m, in \u001b[0;36m_assert_2d\u001b[0;34m(*arrays)\u001b[0m\n\u001b[1;32m    188\u001b[0m \u001b[38;5;28;01mfor\u001b[39;00m a \u001b[38;5;129;01min\u001b[39;00m arrays:\n\u001b[1;32m    189\u001b[0m     \u001b[38;5;28;01mif\u001b[39;00m a\u001b[38;5;241m.\u001b[39mndim \u001b[38;5;241m!=\u001b[39m \u001b[38;5;241m2\u001b[39m:\n\u001b[0;32m--> 190\u001b[0m         \u001b[38;5;28;01mraise\u001b[39;00m LinAlgError(\u001b[38;5;124m'\u001b[39m\u001b[38;5;132;01m%d\u001b[39;00m\u001b[38;5;124m-dimensional array given. Array must be \u001b[39m\u001b[38;5;124m'\u001b[39m\n\u001b[1;32m    191\u001b[0m                 \u001b[38;5;124m'\u001b[39m\u001b[38;5;124mtwo-dimensional\u001b[39m\u001b[38;5;124m'\u001b[39m \u001b[38;5;241m%\u001b[39m a\u001b[38;5;241m.\u001b[39mndim)\n",
      "\u001b[0;31mLinAlgError\u001b[0m: 1-dimensional array given. Array must be two-dimensional"
     ]
    },
    {
     "data": {
      "image/png": "[encoded data removed]",
      "text/plain": [
       "<Figure size 432x288 with 1 Axes>"
      ]
     },
     "metadata": {
      "needs_background": "light"
     },
     "output_type": "display_data"
    }
   ],
   "source": [
    "from matplotlib import pyplot as plt\n",
    "\n",
    "def fit(X, y, k):\n",
    "    p = monomials(len(X), k)\n",
    "    fit_matrix = fitting_matrix(p, X)\n",
    "    return fit_matrix\n",
    "    \n",
    "def fitting_matrix(p, X):\n",
    "    matrix = evaluate_monomials(p, X)\n",
    "    return matrix\n",
    "    \n",
    "fit_matrix = fit(x_train, y_train, 1)  \n",
    "\n",
    "# plotting the points in the training data and the solution line\n",
    "plt.plot(x_train, y_train, '.')\n",
    "#w = np.linalg.lstsq(fit_matrix, y_train, rcond=None)[0]\n",
    "line = w[0]*x + w[1] # regression solution line \n",
    "plt.plot(x, line, 'r-')\n",
    "    \n",
    "#def predict(c, k, X):\n",
    "    \n",
    "# function used to compute the residual error\n",
    "#def residual_error(c, k, X, y):"
   ]
  },
  {
   "cell_type": "markdown",
   "metadata": {
    "tags": [
     "AST"
    ]
   },
   "source": [
    "### Problem 1.6"
   ]
  },
  {
   "cell_type": "code",
   "execution_count": null,
   "metadata": {
    "tags": [
     "AST"
    ]
   },
   "outputs": [],
   "source": [
    "def eigen_data(n):\n",
    "    X = np.random.randn(n, 3)\n",
    "    matrices = np.reshape(X[:, [0, 1, 1, 2]], (n, 2, 2))\n",
    "    y = np.array([np.max(np.linalg.eig(matrix)[0]) for matrix in matrices])\n",
    "    return X, y"
   ]
  },
  {
   "cell_type": "code",
   "execution_count": null,
   "metadata": {
    "tags": [
     "AST"
    ]
   },
   "outputs": [],
   "source": [
    "n_train, n_test = 100, 100\n",
    "x_train, y_train = eigen_data(n_train)\n",
    "x_test, y_test = eigen_data(n_test)"
   ]
  },
  {
   "cell_type": "markdown",
   "metadata": {
    "tags": [
     "AST"
    ]
   },
   "source": [
    "### Problem 1.7 (Exam Style)"
   ]
  },
  {
   "cell_type": "markdown",
   "metadata": {
    "tags": [
     "AST"
    ]
   },
   "source": [
    "## Part 2: Points in Many Dimensions"
   ]
  },
  {
   "cell_type": "code",
   "execution_count": 2,
   "metadata": {
    "tags": [
     "AST"
    ]
   },
   "outputs": [],
   "source": [
    "from math import gamma, sqrt\n",
    "from matplotlib import pyplot as plt\n",
    "\n",
    "def gaussian_sample(n, d):\n",
    "    mean = np.zeros(d)\n",
    "    mean_distance = 2 * gamma((d + 1) / 2) / gamma(d / 2) if d < 200 else sqrt(2 * d)\n",
    "    covariance = np.eye(d) / pow(mean_distance, 2)\n",
    "    return np.random.multivariate_normal(mean, covariance, size=n)"
   ]
  },
  {
   "cell_type": "code",
   "execution_count": 3,
   "metadata": {
    "tags": [
     "AST"
    ]
   },
   "outputs": [],
   "source": [
    "def show_histogram(x, d):\n",
    "    density, _, _ = plt.hist(x=x, bins='auto', density=True, rwidth=0.9)\n",
    "    mean = np.mean(x)\n",
    "    plt.grid(axis='y', alpha=0.75)\n",
    "    plt.xlabel('Distance')\n",
    "    plt.ylabel('Empirical Density')\n",
    "    format_string = '{} dimension{}. Mean distance {:.2f}'\n",
    "    plt.title(format_string.format(d, 's' if d > 1 else '', mean))"
   ]
  },
  {
   "cell_type": "markdown",
   "metadata": {
    "tags": [
     "AST"
    ]
   },
   "source": [
    "### Problem 2.1"
   ]
  },
  {
   "cell_type": "code",
   "execution_count": 4,
   "metadata": {},
   "outputs": [
    {
     "data": {
      "image/png": "[encoded data removed]",
      "text/plain": [
       "<Figure size 432x288 with 1 Axes>"
      ]
     },
     "metadata": {
      "needs_background": "light"
     },
     "output_type": "display_data"
    }
   ],
   "source": [
    "def distances(points):\n",
    "    euc_distances = []\n",
    "    for point1 in range(len(points)):\n",
    "        # prevents zero distance between a point and itself from being included\n",
    "        for point2 in range(point1+1, len(points)):\n",
    "            # calculating euclidiean distance\n",
    "            euc_distances.append(np.sqrt(np.sum(np.square(points[point1]-points[point2]))))\n",
    "    return euc_distances              \n",
    "    \n",
    "# generating histogram from a Gaussian distribution of 300 points in 2 dimensions\n",
    "test_points = gaussian_sample(300, 2)   \n",
    "dist = distances(test_points)\n",
    "show_histogram(test_points, 2)"
   ]
  },
  {
   "cell_type": "markdown",
   "metadata": {
    "tags": [
     "AST"
    ]
   },
   "source": [
    "### Problem 2.2"
   ]
  },
  {
   "cell_type": "code",
   "execution_count": 8,
   "metadata": {},
   "outputs": [
    {
     "data": {
      "image/png": "[encoded data removed]",
      "text/plain": [
       "<Figure size 432x288 with 3 Axes>"
      ]
     },
     "metadata": {
      "needs_background": "light"
     },
     "output_type": "display_data"
    }
   ],
   "source": [
    "# this cell takes awhile to run (especially 1000)!\n",
    "# need to ask about plot formatting\n",
    "\n",
    "test_points_10 = gaussian_sample(300, 10)\n",
    "dist_10 = distances(test_points_10)\n",
    "\n",
    "test_points_100 = gaussian_sample(300, 100)\n",
    "dist_100 = distances(test_points_100)\n",
    "\n",
    "test_points_1000 = gaussian_sample(300, 1000)\n",
    "dist_1000 = distances(test_points_1000)\n",
    "\n",
    "plt.subplot(8,1,1)\n",
    "show_histogram(test_points_10, 10)\n",
    "\n",
    "plt.subplot(8,1,4)\n",
    "show_histogram(test_points_100, 100)\n",
    "\n",
    "plt.subplot(8,1,8)\n",
    "show_histogram(test_points_1000, 1000)"
   ]
  },
  {
   "cell_type": "markdown",
   "metadata": {
    "tags": [
     "AST"
    ]
   },
   "source": [
    "### Problem 2.3"
   ]
  },
  {
   "cell_type": "markdown",
   "metadata": {},
   "source": [
    "The empirical distributions in the previous two problems suggest that as dimensionality increases, the absciass from the mean Euclidean distance of zero decreases. "
   ]
  },
  {
   "cell_type": "markdown",
   "metadata": {
    "tags": [
     "AST"
    ]
   },
   "source": [
    "### Problem 2.4"
   ]
  },
  {
   "cell_type": "markdown",
   "metadata": {},
   "source": [
    "As we observe in the previous part, as dimensionality of the domain increases, the standard deviation of the normal Gaussian distribution of domain $X$ from the mean decreases. These observations confirm why determination of the nearest-neighbor classifier by the Euclidean metric would degrade as the dimensionality becomes increasingly large. For more efficient classification by nearest-neighbors, we would want a wider Gaussian distribution to better distinguish two distinct data points from the training set $T$, as the quality of our training set classification will influence the ability of the algorithm to infer about new data points. "
   ]
  }
 ],
 "metadata": {
  "kernelspec": {
   "display_name": "Python 3 (ipykernel)",
   "language": "python",
   "name": "python3"
  },
  "language_info": {
   "codemirror_mode": {
    "name": "ipython",
    "version": 3
   },
   "file_extension": ".py",
   "mimetype": "text/x-python",
   "name": "python",
   "nbconvert_exporter": "python",
   "pygments_lexer": "ipython3",
   "version": "3.9.12"
  },
  "pycharm": {
   "stem_cell": {
    "cell_type": "raw",
    "metadata": {
     "collapsed": false
    },
    "source": []
   }
  }
 },
 "nbformat": 4,
 "nbformat_minor": 2
}
