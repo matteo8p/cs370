{
 "cells": [
  {
   "cell_type": "markdown",
   "metadata": {
    "tags": [
     "AST"
    ]
   },
   "source": [
    "<style>\n",
    "    @media print{\n",
    "        body {\n",
    "            position:relative !important;\n",
    "        }\n",
    "        .celltag_new_page {\n",
    "            page-break-before: always !important;\n",
    "        }\n",
    "    }\n",
    "</style>\n",
    "# COMPSCI 371 Homework 4\n",
    "Group Members: Brian Janger, Matthew Wang, Caleb Watson"
   ]
  },
  {
   "cell_type": "markdown",
   "metadata": {
    "tags": [
     "AT"
    ]
   },
   "source": [
    "### Problem 0 (3 points)"
   ]
  },
  {
   "cell_type": "code",
   "execution_count": 1,
   "metadata": {
    "tags": [
     "AST"
    ]
   },
   "outputs": [],
   "source": [
    "from urllib.request import urlretrieve\n",
    "from os import path as osp\n",
    "\n",
    "\n",
    "def retrieve(file_name, semester='fall22', course='371', homework=4):\n",
    "    if osp.exists(file_name):\n",
    "        print('Using previously downloaded file {}'.format(file_name))\n",
    "    else:\n",
    "        fmt = 'https://www2.cs.duke.edu/courses/{}/compsci{}/homework/{}/{}'\n",
    "        url = fmt.format(semester, course, homework, file_name)\n",
    "        urlretrieve(url, file_name)\n",
    "        print('Downloaded file {}'.format(file_name))"
   ]
  },
  {
   "cell_type": "code",
   "execution_count": 2,
   "metadata": {
    "tags": [
     "AST"
    ]
   },
   "outputs": [
    {
     "name": "stdout",
     "output_type": "stream",
     "text": [
      "Downloaded file mlp.py\n",
      "Downloaded file checks.py\n"
     ]
    }
   ],
   "source": [
    "for file_name in ('mlp.py', 'checks.py'):\n",
    "    retrieve(file_name)"
   ]
  },
  {
   "cell_type": "markdown",
   "metadata": {
    "tags": [
     "AST"
    ]
   },
   "source": [
    "## Part 1: Line Search"
   ]
  },
  {
   "cell_type": "code",
   "execution_count": 31,
   "metadata": {},
   "outputs": [],
   "source": [
    "import numpy as np\n",
    "from matplotlib import pyplot as plt\n",
    "\n",
    "# defining function\n",
    "def f(alpha):\n",
    "    return np.sin((np.pi*alpha + 1)/2)\n",
    "\n",
    "(a,b,c) = (0,2,5)"
   ]
  },
  {
   "cell_type": "markdown",
   "metadata": {
    "tags": [
     "AST"
    ]
   },
   "source": [
    "### Problem 1.1"
   ]
  },
  {
   "cell_type": "code",
   "execution_count": 34,
   "metadata": {},
   "outputs": [
    {
     "name": "stdout",
     "output_type": "stream",
     "text": [
      "Image of the plot - lineplot with red dots as mentioned above\n",
      "f(0.0) = 0.4794, f(2.0) = -0.4794, f(5.0) = 0.8776\n"
     ]
    },
    {
     "data": {
      "image/png": "[encoded data removed]",
      "text/plain": [
       "<Figure size 432x288 with 1 Axes>"
      ]
     },
     "metadata": {
      "needs_background": "light"
     },
     "output_type": "display_data"
    }
   ],
   "source": [
    "points = [(a, f(a)), (b, f(b)), (c, f(c))]\n",
    "\n",
    "x = [point[0] for point in points]\n",
    "y = [point[1] for point in points]\n",
    "plt.plot(x, y, 'r.')\n",
    "\n",
    "x_space = np.linspace(-2,6)\n",
    "y_space = [f(x) for x in x_space]\n",
    "plt.plot(x_space, y_space, '-')\n",
    "\n",
    "points = np.round(points, decimals=4)\n",
    "print(\"Image of the plot - lineplot with red dots as mentioned above\")\n",
    "print(\"f({}) = {}, f({}) = {}, f({}) = {}\".format(points[0][0], points[0][1], points[1][0], points[1][1], points[2][0], points[2][1]))"
   ]
  },
  {
   "cell_type": "markdown",
   "metadata": {
    "tags": [
     "AST"
    ]
   },
   "source": [
    "### Problem 1.2 (Exam Style)"
   ]
  },
  {
   "cell_type": "markdown",
   "metadata": {},
   "source": [
    "In order to prove that the triple ($a,b,c$) is a valid bracketing triple, three conditions must be satisfied:  \n",
    "1) $a < b < c$  \n",
    "2) $f(a) \\geq f(b)$  \n",
    "3) $f(b) \\leq f(c)$. \n",
    "\n",
    "As we see above, all conditions are satisfied as $a = 0 < b = 2 < c = 5$, $f(a) = 0.4794 \\geq f(b) = -0.4793$, and $f(b) = -0.4794 \\leq f(c) = 0.8776$."
   ]
  },
  {
   "cell_type": "markdown",
   "metadata": {
    "tags": [
     "AST"
    ]
   },
   "source": [
    "### Problem 1.3 (Exam Style)"
   ]
  },
  {
   "cell_type": "markdown",
   "metadata": {},
   "source": [
    "When finding the values of the bracketing triple ($a',b',c'$) that the line search algorithm immediately computes from the triple given above, the bigger of $[a,b]$ and $[b,c]$ must be determined and then split in half with a point $u$. Given that $c-b = 3$ is larger than $b-a = 2$, we calculate the point $u$ to be $(b+c)/2 = (5+2)/2 = 3.5$. The value of $f(3.5)$, -0.2815, is greater than $f(2)$ and therefore the value of ($a',b',c'$) is ($a,b,u$), or ($0, 2, 3.5$)."
   ]
  },
  {
   "cell_type": "markdown",
   "metadata": {
    "tags": [
     "AST"
    ]
   },
   "source": [
    "### Problem 1.4 (Exam-Style)"
   ]
  },
  {
   "cell_type": "markdown",
   "metadata": {},
   "source": [
    "If line search is continued from the above values, it will eventually converge at to the local minimum of $f$ at $\\alpha = 2.6820$ (where $f(\\alpha)=-1$), which is not the closest local minimum to the starting point $\\alpha_0 = 0$ (where $\\alpha = -1.3180$). The following expression can approximate the numerical value for a point $\\alpha^*$ that line search will converge to: $\\frac{2\\arcsin(-1)-1}{\\pi}$."
   ]
  },
  {
   "cell_type": "markdown",
   "metadata": {
    "tags": [
     "AST"
    ]
   },
   "source": [
    "## Part 2: Stochastic Gradient Descent "
   ]
  },
  {
   "cell_type": "code",
   "execution_count": 4,
   "metadata": {
    "tags": [
     "AST"
    ]
   },
   "outputs": [],
   "source": [
    "from mlp import x_digits, y_digits, reset_network, risk_and_gradient, plot_risk_curves\n",
    "\n",
    "network, z0 = reset_network()"
   ]
  },
  {
   "cell_type": "code",
   "execution_count": 5,
   "metadata": {
    "tags": [
     "AT"
    ]
   },
   "outputs": [
    {
     "name": "stdout",
     "output_type": "stream",
     "text": [
      "1.1.1\n"
     ]
    }
   ],
   "source": [
    "import sklearn\n",
    "\n",
    "print(sklearn.__version__)"
   ]
  },
  {
   "cell_type": "markdown",
   "metadata": {
    "tags": [
     "AST"
    ]
   },
   "source": [
    "### Problem 2.1"
   ]
  },
  {
   "cell_type": "code",
   "execution_count": 6,
   "metadata": {
    "tags": [
     "AST"
    ]
   },
   "outputs": [],
   "source": [
    "batch_sizes = (5, 10, 20, 50, 100, 200, 500, 1000)"
   ]
  },
  {
   "cell_type": "markdown",
   "metadata": {
    "tags": [
     "AST"
    ]
   },
   "source": [
    "### Problem 2.2"
   ]
  },
  {
   "cell_type": "code",
   "execution_count": 11,
   "metadata": {
    "tags": [
     "AT"
    ]
   },
   "outputs": [],
   "source": [
    "def sgd(z, x, y, mlp,\n",
    "        n_epochs=5, batch_size=200,\n",
    "        epoch_alpha=1., record=False):\n",
    "    rng = np.random.default_rng(0)\n",
    "    n_samples = len(y)\n",
    "    # Possibly miss a few data points at the end for simplicity\n",
    "    n_batches = n_samples // batch_size\n",
    "    alpha = epoch_alpha / n_batches\n",
    "    step = 0\n",
    "    if record:\n",
    "        training_risks = [(step, risk_and_gradient(z, x, y, mlp)[0])]\n",
    "        batch_risks = []\n",
    "    else:\n",
    "        training_risks, batch_risks = None, None\n",
    "    for epoch in range(n_epochs):\n",
    "        indices = rng.permutation(n_samples)\n",
    "        b_start, b_stop = 0, batch_size\n",
    "        for b in range(n_batches):\n",
    "            step += 1\n",
    "            batch_indices = indices[b_start:b_stop]\n",
    "            x_batch, y_batch = x[batch_indices], y[batch_indices]"
   ]
  },
  {
   "cell_type": "markdown",
   "metadata": {
    "tags": [
     "AST"
    ]
   },
   "source": [
    "### Problem 2.3 (Exam Style)"
   ]
  },
  {
   "cell_type": "markdown",
   "metadata": {
    "tags": [
     "AST"
    ]
   },
   "source": [
    "### Problem 2.4 (Exam Style except for Making the Plot)"
   ]
  },
  {
   "cell_type": "markdown",
   "metadata": {
    "tags": [
     "AST"
    ]
   },
   "source": [
    "### Problem 2.5 (Exam Style except for Making the Plots)"
   ]
  },
  {
   "cell_type": "markdown",
   "metadata": {
    "tags": [
     "AST"
    ]
   },
   "source": [
    "### Problem 2.6  (Exam Style except for Making the Plot)"
   ]
  },
  {
   "cell_type": "markdown",
   "metadata": {
    "tags": [
     "AST"
    ]
   },
   "source": [
    "## Part 3: Hyperplanes"
   ]
  },
  {
   "cell_type": "markdown",
   "metadata": {
    "tags": [
     "AST"
    ]
   },
   "source": [
    "### Problem 3.1 (Exam Style)"
   ]
  },
  {
   "cell_type": "markdown",
   "metadata": {
    "tags": [
     "AST"
    ]
   },
   "source": [
    "### Problem 3.2 (Exam Style)"
   ]
  },
  {
   "cell_type": "markdown",
   "metadata": {
    "tags": [
     "AST"
    ]
   },
   "source": [
    "### Problem 3.3"
   ]
  },
  {
   "cell_type": "code",
   "execution_count": 22,
   "metadata": {
    "tags": [
     "AST"
    ]
   },
   "outputs": [],
   "source": [
    "import numpy as np\n",
    "\n",
    "implicit_lines = [\n",
    "    (np.array((0., 2)), 6.),\n",
    "    (np.array((3., -3.)), 9.),\n",
    "    (np.array((1., 2.)), 1.)\n",
    "]"
   ]
  },
  {
   "cell_type": "markdown",
   "metadata": {
    "tags": [
     "AST"
    ]
   },
   "source": [
    "### Problem 3.4"
   ]
  },
  {
   "cell_type": "code",
   "execution_count": 36,
   "metadata": {
    "tags": [
     "AST"
    ]
   },
   "outputs": [],
   "source": [
    "parametric_lines = [\n",
    "    (np.array((-1., -1.)), np.array((2., 1.))),\n",
    "    (np.array((0., 0.)), np.array((np.sqrt(3.), 1.))),\n",
    "    (np.array((2., -3.)), np.array((1., 0.)))\n",
    "]"
   ]
  },
  {
   "cell_type": "markdown",
   "metadata": {
    "tags": [
     "AST"
    ]
   },
   "source": [
    "### Problem 3.5"
   ]
  },
  {
   "cell_type": "code",
   "execution_count": 39,
   "metadata": {
    "tags": [
     "AST"
    ]
   },
   "outputs": [],
   "source": [
    "import numpy as np\n",
    "\n",
    "\n",
    "def bases(s, tolerance=1.e-6):\n",
    "    assert s.shape[0] >= s.shape[1], \\\n",
    "        'input matrix must have no fewer rows than columns'\n",
    "    u, sigma, _ = np.linalg.svd(s)\n",
    "    threshold = sigma[0] * s.shape[0] * tolerance\n",
    "    rank = np.sum(sigma > threshold)\n",
    "    m, n = u[:, :rank], u[:, rank:]\n",
    "    return m, n, rank"
   ]
  },
  {
   "cell_type": "code",
   "execution_count": 41,
   "metadata": {
    "tags": [
     "AT"
    ]
   },
   "outputs": [],
   "source": [
    "# from checks import check_representations\n",
    "\n",
    "# success = check_representations(\n",
    "#     implicit_to_parametric, parametric_to_implicit\n",
    "# )\n",
    "# print('checks {}'.format('passed' if success else 'failed'))"
   ]
  }
 ],
 "metadata": {
  "celltoolbar": "Tags",
  "kernelspec": {
   "display_name": "Python 3 (ipykernel)",
   "language": "python",
   "name": "python3"
  },
  "language_info": {
   "codemirror_mode": {
    "name": "ipython",
    "version": 3
   },
   "file_extension": ".py",
   "mimetype": "text/x-python",
   "name": "python",
   "nbconvert_exporter": "python",
   "pygments_lexer": "ipython3",
   "version": "3.9.12"
  },
  "pycharm": {
   "stem_cell": {
    "cell_type": "raw",
    "metadata": {
     "collapsed": false
    },
    "source": []
   }
  }
 },
 "nbformat": 4,
 "nbformat_minor": 2
}
