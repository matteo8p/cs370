{
 "cells": [
  {
   "cell_type": "markdown",
   "metadata": {
    "tags": [
     "AST"
    ]
   },
   "source": [
    "<style>\n",
    "    @media print{\n",
    "        body {\n",
    "            position:relative !important;\n",
    "        }\n",
    "        .celltag_new_page {\n",
    "            page-break-before: always !important;\n",
    "        }\n",
    "    }\n",
    "</style>\n",
    "# COMPSCI 371 Homework 5"
   ]
  },
  {
   "cell_type": "markdown",
   "metadata": {},
   "source": [
    "Partners: Brian Janger, Matthew Wang, Caleb Watson"
   ]
  },
  {
   "cell_type": "markdown",
   "metadata": {
    "tags": [
     "AT"
    ]
   },
   "source": [
    "### Problem 0 (3 points)"
   ]
  },
  {
   "cell_type": "markdown",
   "metadata": {
    "tags": [
     "AST"
    ]
   },
   "source": [
    "## Part 1: Convex Functions "
   ]
  },
  {
   "cell_type": "markdown",
   "metadata": {
    "tags": [
     "AST"
    ]
   },
   "source": [
    "### Problem 1.1 (Exam Style)"
   ]
  },
  {
   "cell_type": "markdown",
   "metadata": {},
   "source": [
    "To prove weakly convex, we will prove the equality $\\phi(ux+(1-u)x') = u\\phi(x) + (1-u)\\phi(x')$, as if the two sides are equal, the function $\\phi(x)$ must be weakly (but not strongly) convex.\n",
    "\n",
    "Expanding on the left side, we get \n",
    "\n",
    "$b + w^T(ux+(1-u)x')$\n",
    "\n",
    "$b + uw^Tx + (1-u)w^Tx'$\n",
    "\n",
    "Expanding the equality on the right side, we get\n",
    "\n",
    "$u(b+w^Tx) + (1-u)(b+w^Tx')$\n",
    "\n",
    "$ub + uw^Tx + b - ub + (1-u)w^Tx'$\n",
    "\n",
    "$b + uw^Tx + (1-u)w^Tx'$\n",
    "\n",
    "Observe that after expansion, left side and right side are equal. Therefore, $\\phi(x)$ is weakly convex from our proved equality above. "
   ]
  },
  {
   "cell_type": "markdown",
   "metadata": {
    "tags": [
     "AST"
    ]
   },
   "source": [
    "### Problem 1.2 (Exam Style)"
   ]
  },
  {
   "cell_type": "markdown",
   "metadata": {},
   "source": [
    "The function is not strongly convex, but it is weakly concave."
   ]
  },
  {
   "cell_type": "markdown",
   "metadata": {
    "tags": [
     "AST"
    ]
   },
   "source": [
    "### Problem 1.3 (Exam Style)"
   ]
  },
  {
   "cell_type": "markdown",
   "metadata": {},
   "source": [
    "Let $f(x) = x^2$ and $g(y) = -y$. $g(y) = -y$ still works because we removed the nondecreasing requirement, but it is still weakly convex. \n",
    "\n",
    "Therefore, $h(x) = g(f(x)) = -x^2$, which is clearly not convex (geometrically, this function looks like an upside-down bowl, and since we know that $y=x^2$ is convex, then $-y$ must be concave)."
   ]
  },
  {
   "cell_type": "markdown",
   "metadata": {
    "tags": [
     "AST"
    ]
   },
   "source": [
    "### Problem 1.4 (Exam Style)"
   ]
  },
  {
   "cell_type": "markdown",
   "metadata": {},
   "source": [
    "We know that $h(x)=g(y)=g(f(x))$, $g(x)$ is weakly convex and nondecreasing, and $f(x)$ is weakly convex."
   ]
  },
  {
   "cell_type": "markdown",
   "metadata": {},
   "source": [
    "Let $u=f(\\alpha x + (1-\\alpha)x')$ and $v=\\alpha y + (1 - \\alpha) y'$ where $y=f(x)$ and $y'=f(x')$."
   ]
  },
  {
   "cell_type": "markdown",
   "metadata": {},
   "source": [
    "Because $f$ is weakly convex, we know that $u \\leq v$ (derived from definitions above and the weakly convex inequality in notes).\n",
    "\n",
    "We then plug $u$ and $v$ into function $g$. We know that $g$ is nondecreasing, so since $u \\leq v$, then $g(u) \\leq g(v)$."
   ]
  },
  {
   "cell_type": "markdown",
   "metadata": {},
   "source": [
    "Substitute $u$ and $v$, we get \n",
    "\n",
    "$g(f(\\alpha x + (1 - \\alpha) x')) \\leq g(\\alpha f(x) + (1-\\alpha)f(x'))$\n",
    "\n",
    "Using the definition of convexity on the right side of the inequality for $g(x)$ (which we know is convex by definition): \n",
    "\n",
    "$g(f(\\alpha x + (1 - \\alpha)x')) \\leq g(\\alpha f(x) + (1-\\alpha)f(x')) \\leq \\alpha g(f(x)) + (1-\\alpha)g(f(x'))$\n",
    "\n",
    "and thus (by removing the middle part of the inequalities):\n",
    "\n",
    "$g(f(\\alpha x + (1 - \\alpha)x')) \\leq \\alpha g(f(x)) + (1-\\alpha)g(f(x'))$"
   ]
  },
  {
   "cell_type": "markdown",
   "metadata": {},
   "source": [
    "Lastly, we substitute $g(f(x))$ with $h$, using the defined composition of functions:\n",
    "\n",
    "$h(\\alpha x + (a-\\alpha)x') \\leq \\alpha h(x) + (1-\\alpha)h(x')$"
   ]
  },
  {
   "cell_type": "markdown",
   "metadata": {},
   "source": [
    "The above inequality proves that $h$ is weakly convex, as it matches the definition of weak convexity defined in the notes."
   ]
  },
  {
   "cell_type": "markdown",
   "metadata": {
    "tags": [
     "AST"
    ]
   },
   "source": [
    "## Part 2: Score and Loss Functions "
   ]
  },
  {
   "cell_type": "markdown",
   "metadata": {
    "tags": [
     "AST"
    ]
   },
   "source": [
    "### Problem 2.1 (Exam Style)"
   ]
  },
  {
   "cell_type": "markdown",
   "metadata": {},
   "source": [
    "$f_1(\\alpha) = \\alpha: f_1$ is both weakly concave and weakly convex and increasing  \n",
    "\n",
    "$f_2(\\alpha) = \\frac{1}{1+e^{-\\alpha}}: f_2$ is neither concave nor convex and increasing  \n",
    "\n",
    "$\\ell_1(y,p) = (y-p)^2: \\ell_1$ for both $y = 0$ and $1$ is strongly convex and neither increasing nor decreasing\n",
    "\n",
    "$\\ell_2(y,p) = -y\\log{p} - (1-y)\\log(1-p): \\ell_2$ for both $y = 0$ and $1$ is strongly convex, but decreasing for $y=1$ and increasing for $y=0$"
   ]
  },
  {
   "cell_type": "markdown",
   "metadata": {
    "tags": [
     "AST"
    ]
   },
   "source": [
    "### Problem 2.2 (Exam Style)"
   ]
  },
  {
   "cell_type": "markdown",
   "metadata": {},
   "source": [
    "$\\ell_1(y,f_1(\\alpha)) = (y-\\alpha)^2$: for both $y = 0$ and $1$ the loss function is strongly convex and neither increasing nor decreasing \n",
    "\n",
    "$\\ell_1(y,f_2(\\alpha)) = (y-\\frac{1}{1+e^{-\\alpha}})^2$: for both $y = 0$ and $1$ the loss function is neither concave nor convex, but increasing for $y = 0$ and decreasing for $y = 1$\n",
    "\n",
    "$\\ell_2(y,f_1(\\alpha))$ = undefined: these functions cannot be combined by composition as there exists no solution to $\\log(\\alpha)$ when $\\alpha$ is negative\n",
    "\n",
    "$\\ell_2(y,f_2(\\alpha)) = -y\\log{\\frac{1}{1+e^{-\\alpha}}}-(1-y)\\log(1-\\frac{1}{1+e^{-\\alpha}})$: for both $y = 0$ and $1$ the loss function is strongly convex, but increasing for $y = 0$ and decreasing for $y = 1$"
   ]
  },
  {
   "cell_type": "markdown",
   "metadata": {
    "tags": [
     "AST"
    ]
   },
   "source": [
    "### Problem 2.3"
   ]
  },
  {
   "cell_type": "code",
   "execution_count": 1,
   "metadata": {},
   "outputs": [],
   "source": [
    "import numpy as np\n",
    "from matplotlib import pyplot as plt\n",
    "alpha_space = np.linspace(-5,5)"
   ]
  },
  {
   "cell_type": "code",
   "execution_count": 2,
   "metadata": {},
   "outputs": [
    {
     "data": {
      "text/plain": [
       "<matplotlib.legend.Legend at 0x2165ad73a00>"
      ]
     },
     "execution_count": 2,
     "metadata": {},
     "output_type": "execute_result"
    },
    {
     "data": {
      "image/png": "[encoded data removed]",
      "text/plain": [
       "<Figure size 432x288 with 1 Axes>"
      ]
     },
     "metadata": {
      "needs_background": "light"
     },
     "output_type": "display_data"
    }
   ],
   "source": [
    "# plotting l_1(y, f_1(alpha))\n",
    "def l(y, p):\n",
    "    return (y - p) ** 2\n",
    "zero_space = [l(0,a) for a in alpha_space]\n",
    "one_space = [l(1,a) for a in alpha_space]\n",
    "\n",
    "plt.plot(alpha_space, zero_space, label='y=0')\n",
    "plt.plot(alpha_space, one_space, label='y=1')\n",
    "plt.xlabel('Alpha')\n",
    "plt.ylabel('Loss')\n",
    "plt.legend()"
   ]
  },
  {
   "cell_type": "code",
   "execution_count": 3,
   "metadata": {},
   "outputs": [
    {
     "data": {
      "text/plain": [
       "<matplotlib.legend.Legend at 0x2165b52eb50>"
      ]
     },
     "execution_count": 3,
     "metadata": {},
     "output_type": "execute_result"
    },
    {
     "data": {
      "image/png": "[encoded data removed]",
      "text/plain": [
       "<Figure size 432x288 with 1 Axes>"
      ]
     },
     "metadata": {
      "needs_background": "light"
     },
     "output_type": "display_data"
    }
   ],
   "source": [
    "# plotting l_1(y, f_2(alpha))\n",
    "def l(y, p):\n",
    "    return (y - (1/(1+np.exp(-p)))) ** 2\n",
    "zero_space = [l(0,a) for a in alpha_space]\n",
    "one_space = [l(1,a) for a in alpha_space]\n",
    "\n",
    "plt.plot(alpha_space, zero_space, label='y=0')\n",
    "plt.plot(alpha_space, one_space, label='y=1')\n",
    "plt.xlabel('Alpha')\n",
    "plt.ylabel('Loss')\n",
    "plt.legend()"
   ]
  },
  {
   "cell_type": "code",
   "execution_count": 4,
   "metadata": {},
   "outputs": [
    {
     "data": {
      "text/plain": [
       "<matplotlib.legend.Legend at 0x2165b5a9430>"
      ]
     },
     "execution_count": 4,
     "metadata": {},
     "output_type": "execute_result"
    },
    {
     "data": {
      "image/png": "[encoded data removed]",
      "text/plain": [
       "<Figure size 432x288 with 1 Axes>"
      ]
     },
     "metadata": {
      "needs_background": "light"
     },
     "output_type": "display_data"
    }
   ],
   "source": [
    "# plotting l_2(y, f_2(alpha))\n",
    "def l(y, p):\n",
    "    alpha = 1/(1+np.exp(-p))\n",
    "    return -y*np.log(alpha) - (1-y)*np.log(1-alpha)\n",
    "zero_space = [l(0,a) for a in alpha_space]\n",
    "one_space = [l(1,a) for a in alpha_space]\n",
    "\n",
    "plt.plot(alpha_space, zero_space, label='y=0')\n",
    "plt.plot(alpha_space, one_space, label='y=1')\n",
    "plt.xlabel('Alpha')\n",
    "plt.ylabel('Loss')\n",
    "plt.legend()"
   ]
  },
  {
   "cell_type": "markdown",
   "metadata": {
    "tags": [
     "AST"
    ]
   },
   "source": [
    "### Problem 2.4 (Exam Style)"
   ]
  },
  {
   "cell_type": "markdown",
   "metadata": {},
   "source": [
    "When assessing how the above functions behave asymptotically as $\\alpha$ approaches infinity for $y = 0$, we can simplify the above expressions to the following: \n",
    "\n",
    "$\\ell_1(y,f_1(\\alpha)) = (-\\alpha)^2$ most sensitive\n",
    "\n",
    "$\\ell_1(y,f_2(\\alpha)) = (-\\frac{1}{1+e^{-\\alpha}})^2$ least sensitive\n",
    "\n",
    "$\\ell_2(y,f_2(\\alpha)) = \\log(1-\\frac{1}{1+e^{-\\alpha}})$\n",
    "\n",
    "As $\\alpha \\rightarrow \\infty$, the expression $e^{-\\alpha}$ approaches zero, thus allowing the above expressions to be simplified further and approximated by $\\alpha^k$.\n",
    "\n",
    "$\\ell_1(y,f_1(\\alpha)) = (-\\alpha)^2 \\rightarrow \\alpha^2$\n",
    "\n",
    "$\\ell_1(y,f_2(\\alpha)) = 1 \\rightarrow \\alpha^0$\n",
    "\n",
    "$\\ell_2(y,f_2(\\alpha))$ = $\\log(0) \\rightarrow \\alpha^1$\n",
    "\n",
    "Of the above functions, $\\ell_1(y,f_2(\\alpha))$ is the least sensitive and $\\ell_1(y,f_1(\\alpha))$ is the most sensitive. "
   ]
  },
  {
   "cell_type": "markdown",
   "metadata": {
    "tags": [
     "AST"
    ]
   },
   "source": [
    "### Problem 2.5 (Exam Style)"
   ]
  },
  {
   "cell_type": "markdown",
   "metadata": {},
   "source": [
    "The function $\\ell_1(y,f_1(\\alpha))$ is sensitive to samples regardless of whether they are correctly or incorrectly classified because any pertubation from $\\alpha = 0$ results in a change of $\\alpha^2$ when $y = 0$. This remains the case as $\\alpha$ approaches the boundaries of the pre-defined domain, which is the case in which the sample was incorrectly classified. When $\\alpha$ is perturbed slightly from zero, in the case of correct classification, the same result is observed. "
   ]
  },
  {
   "cell_type": "markdown",
   "metadata": {
    "tags": [
     "AST"
    ]
   },
   "source": [
    "## Part 3: The Multiclass Logistic-Regression Classifier"
   ]
  },
  {
   "cell_type": "code",
   "execution_count": 5,
   "metadata": {
    "tags": [
     "AST"
    ]
   },
   "outputs": [],
   "source": [
    "from urllib.request import urlretrieve\n",
    "from os import path as osp\n",
    "\n",
    "\n",
    "def retrieve(file_name, semester='fall22', course='371', homework=5):\n",
    "    if osp.exists(file_name):\n",
    "        print('Using previously downloaded file {}'.format(file_name))\n",
    "    else:\n",
    "        fmt = 'https://www2.cs.duke.edu/courses/{}/compsci{}/homework/{}/{}'\n",
    "        url = fmt.format(semester, course, homework, file_name)\n",
    "        urlretrieve(url, file_name)\n",
    "        print('Downloaded file {}'.format(file_name))"
   ]
  },
  {
   "cell_type": "code",
   "execution_count": 6,
   "metadata": {
    "tags": [
     "AST"
    ]
   },
   "outputs": [
    {
     "name": "stdout",
     "output_type": "stream",
     "text": [
      "Using previously downloaded file vowel.train\n",
      "Using previously downloaded file vowel.test\n",
      "Using previously downloaded file vowels.py\n"
     ]
    }
   ],
   "source": [
    "retrieve('vowel.train')\n",
    "retrieve('vowel.test')\n",
    "retrieve('vowels.py')"
   ]
  },
  {
   "cell_type": "code",
   "execution_count": 7,
   "metadata": {
    "tags": [
     "AST"
    ]
   },
   "outputs": [],
   "source": [
    "from vowels import vowel_dataset\n",
    "import numpy as np\n",
    "\n",
    "dataset = vowel_dataset()"
   ]
  },
  {
   "cell_type": "markdown",
   "metadata": {
    "tags": [
     "AST"
    ]
   },
   "source": [
    "### Problem 3.1"
   ]
  },
  {
   "cell_type": "code",
   "execution_count": 8,
   "metadata": {},
   "outputs": [
    {
     "name": "stdout",
     "output_type": "stream",
     "text": [
      "training accuracy on the original split is 72.73 percent\n",
      "testing accuracy on the original split is 45.02 percent\n"
     ]
    }
   ],
   "source": [
    "from sklearn.linear_model import LogisticRegression\n",
    "np.set_printoptions(precision=2, suppress=True)\n",
    "\n",
    "def train_and_test(data, split='original'):\n",
    "    h = LogisticRegression(multi_class='multinomial')\n",
    "    h.fit(data['train']['x'], data['train']['y'])\n",
    "    score_train = h.score(data['train']['x'], data['train']['y'])\n",
    "    \n",
    "    h.predict(data['test']['x']) # don't think is needed\n",
    "    score_test = h.score(data['test']['x'], data['test']['y'])\n",
    "\n",
    "    print('training accuracy on the original split is {:.2f} percent'.format(100*score_train))\n",
    "    print('testing accuracy on the original split is {:.2f} percent'.format(100*score_test))\n",
    "\n",
    "    # return trained classifier\n",
    "    return h\n",
    "    \n",
    "classifier = train_and_test(dataset, 'original')"
   ]
  },
  {
   "cell_type": "markdown",
   "metadata": {
    "tags": [
     "AST"
    ]
   },
   "source": [
    "### Problem 3.2 (Exam Style)"
   ]
  },
  {
   "cell_type": "markdown",
   "metadata": {},
   "source": [
    "The classifier does not generalize well. We can see that our multiple logistic regression classifier (which is very simple) only achieves an accuracy of \\~73% on the data we are fitting to, and it predicts with even worse accuracy (\\~45%) on the previously unseen test data.\n",
    "\n",
    "This isn't an accurate classifier at all in the grand scheme of things, as we can't even expect our prediction to be correct half of the time on previously unseen data. Thus, the classifier doesn't generalize well."
   ]
  },
  {
   "cell_type": "markdown",
   "metadata": {
    "tags": [
     "AST"
    ]
   },
   "source": [
    "### Problem 3.3"
   ]
  },
  {
   "cell_type": "code",
   "execution_count": 9,
   "metadata": {},
   "outputs": [
    {
     "name": "stdout",
     "output_type": "stream",
     "text": [
      "lowest training accuracy is 47.92 percent on the vowel in \"hud\"\n",
      "lowest testing accuracy is 16.67 percent on the vowel in \"hod\"\n"
     ]
    }
   ],
   "source": [
    "def print_difficult_vowels(h, data):\n",
    "    min_train = 1\n",
    "    min_test = 1\n",
    "    # determine accuracy in training set\n",
    "    for x in range(0,11):\n",
    "        idx = np.argwhere(data['train']['y'] == x)\n",
    "        sp_vowel_x = np.array([data['train']['x'][idx[i][0]].tolist() for i in range(idx.size)])\n",
    "        sp_vowel_y = [x for i in range(len(sp_vowel_x))]\n",
    "        score_train = h.score(sp_vowel_x, sp_vowel_y)\n",
    "        if score_train < min_train:\n",
    "            min_train = score_train\n",
    "            min_train_vowel = data['label meaning'][x]\n",
    "    # determine accuracy in testing set\n",
    "    for x in range(0,11):\n",
    "        idx = np.argwhere(data['test']['y'] == x)\n",
    "        sp_vowel_x = np.array([data['test']['x'][idx[i][0]].tolist() for i in range(idx.size)])\n",
    "        sp_vowel_y = [x for i in range(len(sp_vowel_x))]\n",
    "        score_test = h.score(sp_vowel_x, sp_vowel_y)\n",
    "        if score_test < min_test:\n",
    "            min_test = score_test\n",
    "            min_test_vowel = data['label meaning'][x]\n",
    "    \n",
    "    print('lowest training accuracy is {:.2f} percent on the vowel in \\\"{}\\\"'.format(min_train*100, min_train_vowel))\n",
    "    print('lowest testing accuracy is {:.2f} percent on the vowel in \\\"{}\\\"'.format(min_test*100, min_test_vowel))\n",
    "    \n",
    "print_difficult_vowels(classifier, dataset)"
   ]
  },
  {
   "cell_type": "markdown",
   "metadata": {
    "tags": [
     "AST"
    ]
   },
   "source": [
    "### Problem 3.4"
   ]
  },
  {
   "cell_type": "code",
   "execution_count": 17,
   "metadata": {},
   "outputs": [
    {
     "name": "stdout",
     "output_type": "stream",
     "text": [
      "training accuracy on the original split is 70.71 percent\n",
      "testing accuracy on the original split is 63.84 percent\n"
     ]
    },
    {
     "data": {
      "text/plain": [
       "LogisticRegression(multi_class='multinomial')"
      ]
     },
     "execution_count": 17,
     "metadata": {},
     "output_type": "execute_result"
    }
   ],
   "source": [
    "def random_split(data):\n",
    "    # merging training and test data\n",
    "    data_updated = {'train' : {'x':[],'y':[]}, 'test':{'x':[],'y':[]},'label meaning':data['label meaning']}\n",
    "    x_combine = np.concatenate([data['train']['x'], data['test']['x']])\n",
    "    y_combine = np.concatenate([data['train']['y'], data['test']['y']])\n",
    "    \n",
    "    shuffled_indices = np.arange(x_combine.shape[0])\n",
    "    np.random.shuffle(shuffled_indices)\n",
    "    training_indices = shuffled_indices[:x_combine.shape[0]//2]\n",
    "    testing_indices = shuffled_indices[x_combine.shape[0]//2:]\n",
    "    \n",
    "    data_updated['train']['x'] = x_combine[training_indices]\n",
    "    data_updated['test']['x'] = x_combine[testing_indices]\n",
    "    data_updated['train']['y'] = y_combine[training_indices]\n",
    "    data_updated['test']['y'] = y_combine[testing_indices]\n",
    "    \n",
    "    return data_updated\n",
    "\n",
    "random_data = random_split(dataset)\n",
    "train_and_test(random_data)"
   ]
  },
  {
   "cell_type": "markdown",
   "metadata": {
    "tags": [
     "AST"
    ]
   },
   "source": [
    "### Problem 3.5 (Exam Style)"
   ]
  },
  {
   "cell_type": "markdown",
   "metadata": {},
   "source": [
    "We can see that the training accuracy is fairly constant throughout the two different training/testing sets. This makes sense because when we are making our multiclass logistic regression model, it is essentially a fitting problem. Since the two different training sets are of (about) equal size, our model will be able to fit to the data in the two training sets with about equal accuracy (keeping in mind there will be some variability in our accuracy on the training set when we randomly split the data).\n",
    "\n",
    "The testing accuracy is noticeably higher when we randomly split the data versus when we used the given training and testing datasets. This is likely because in problem 3.1, the two datasets are very different from one another (8 speakers for the training set, and 7 *different* speakers for the testing set), so the model we fit for the training set likely won't predict the testing set very well. But in problem 3.4, when we randomly split all of the data into training and testing, the two sets are going to be more alike each other, since they will (likely) contain data for all 15 speakers in each set. Therefore, our fitted model on the training data will be more effective at predicting the unseen testing data since the sets are going to be more alike each other.\n",
    "\n",
    "The promising results we read about in machine learning literature can sometimes be misleading because problems 3.1 and 3.4 showed us that the effectiveness of our machine learning model on a testing set is heavily dependent on the way we partition our data into training and testing sets. Sometimes, it's not a guarantee that the unseen data we look at will be similar to the training data we fit on (a real-world example could be handwritten number recognition, where a person's previously unseen handwriting could be very different from anything we've seen and fitted on in the training set), so even if our results for our machine learning model are promising, they may not necessarily be accurate."
   ]
  }
 ],
 "metadata": {
  "kernelspec": {
   "display_name": "Python 3 (ipykernel)",
   "language": "python",
   "name": "python3"
  },
  "language_info": {
   "codemirror_mode": {
    "name": "ipython",
    "version": 3
   },
   "file_extension": ".py",
   "mimetype": "text/x-python",
   "name": "python",
   "nbconvert_exporter": "python",
   "pygments_lexer": "ipython3",
   "version": "3.9.12"
  },
  "pycharm": {
   "stem_cell": {
    "cell_type": "raw",
    "metadata": {
     "collapsed": false
    },
    "source": []
   }
  }
 },
 "nbformat": 4,
 "nbformat_minor": 2
}
