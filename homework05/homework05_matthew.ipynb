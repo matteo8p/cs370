{
 "cells": [
  {
   "cell_type": "markdown",
   "metadata": {
    "tags": [
     "AST"
    ]
   },
   "source": [
    "<style>\n",
    "    @media print{\n",
    "        body {\n",
    "            position:relative !important;\n",
    "        }\n",
    "        .celltag_new_page {\n",
    "            page-break-before: always !important;\n",
    "        }\n",
    "    }\n",
    "</style>\n",
    "# COMPSCI 371 Homework 5"
   ]
  },
  {
   "cell_type": "markdown",
   "metadata": {
    "tags": [
     "AT"
    ]
   },
   "source": [
    "### Problem 0 (3 points)"
   ]
  },
  {
   "cell_type": "markdown",
   "metadata": {
    "tags": [
     "AST"
    ]
   },
   "source": [
    "## Part 1: Convex Functions "
   ]
  },
  {
   "cell_type": "markdown",
   "metadata": {
    "tags": [
     "AST"
    ]
   },
   "source": [
    "### Problem 1.1 (Exam Style)\n",
    "\n",
    "Is the function $\\phi(x)$ weakly convex? Provide a proof"
   ]
  },
  {
   "cell_type": "markdown",
   "metadata": {},
   "source": [
    "To prove weakly convex, we will prove the equality $\\phi(ux+(1-u)x') = u\\phi(x) + (1-u)\\phi(x')$\n",
    "\n",
    "Expanding on the left side, we get \n",
    "\n",
    "$b + w^T(ux+(1-u)x')$\n",
    "\n",
    "$b + uw^Tx + (1-u)w^Tx'$\n",
    "\n",
    "Expanding the equality on the right side, we get\n",
    "\n",
    "$u(b+w^Tx) + (1-u)(b+w^Tx')$\n",
    "\n",
    "$ub + uw^Tx + b - ub + (1-u)w^Tx'$\n",
    "\n",
    "$b + uw^Tx + (1-u)w^Tx'$\n",
    "\n",
    "Observe that after expansion, left side and right side are equal. Therefore, $\\phi(x)$ is weakly convex from our inequality "
   ]
  },
  {
   "cell_type": "markdown",
   "metadata": {
    "tags": [
     "AST"
    ]
   },
   "source": [
    "### Problem 1.2 (Exam Style)\n",
    "\n",
    "Is the function $\\phi(x)$ strongly convex? Weakly concave? "
   ]
  },
  {
   "cell_type": "markdown",
   "metadata": {},
   "source": [
    "The function is not strongly convex, it is weakly concave "
   ]
  },
  {
   "cell_type": "markdown",
   "metadata": {
    "tags": [
     "AST"
    ]
   },
   "source": [
    "### Problem 1.3 (Exam Style)\n",
    "\n",
    "Give a simple example that shows that if we remove the requirement that $g$ is nondecreasing then the function $h$ constructed in the preamble above is not necessarily even weakly convex."
   ]
  },
  {
   "cell_type": "markdown",
   "metadata": {},
   "source": [
    "Let $f(x) = x^2$ and $g(y) = -y$. $g(y) = -y$ still works because we removed the nondecreasing requirement, but it is still weakly convex. \n",
    "\n",
    "Therefore, $h(x) = g(y) = -x^2$, which is clearly not convex"
   ]
  },
  {
   "cell_type": "markdown",
   "metadata": {
    "tags": [
     "AST"
    ]
   },
   "source": [
    "### Problem 1.4 (Exam Style)\n",
    "\n",
    "Prove that the function $h$ constructed in the preamble above is weakly convex without assuming that either $f$ or $g$ is differentiable."
   ]
  },
  {
   "cell_type": "markdown",
   "metadata": {},
   "source": [
    "$h(x)=g(y)=g(f(x))$, $g(x)$ is weakly convex and nondecreasing, $f(x)$ is weakly convex"
   ]
  },
  {
   "cell_type": "markdown",
   "metadata": {},
   "source": [
    "Let $u=f(\\alpha x + (1-\\alpha)x')$ and $v=\\alpha y + (1 - \\alpha) y'$ where $y=f(x)$ and $y'=f(x')$\n",
    "\n",
    "\n",
    "\n",
    "\n"
   ]
  },
  {
   "cell_type": "markdown",
   "metadata": {},
   "source": [
    "Because $f$ is weakly convex, we know that $u \\leq v$ (derived from definitions above and the weakly convex inequality in notes).\n",
    "\n",
    "We then plug $u$ and $v$ into function $g$. We know that $g$ is nondecreasing, so since $u \\leq v$, then $g(u) \\leq g(v)$"
   ]
  },
  {
   "cell_type": "markdown",
   "metadata": {},
   "source": [
    "Substitute $u$ and $v$, we get \n",
    "\n",
    "$g(f(\\alpha x + (1 - \\alpha) x')) \\leq g(\\alpha f(x) + (1-\\alpha)f(x'))$\n",
    "\n",
    "Distribute the function on the right side \n",
    "\n",
    "$g(f(\\alpha x + (1 - \\alpha)x')) \\leq \\alpha g(f(x)) + (1-\\alpha)g(f(x'))$\n",
    "\n",
    "Lastly, we substitute $g(f(x))$ with $h$\n",
    "\n",
    "$h(\\alpha x + (a-\\alpha)x') \\leq \\alpha h(x) + (1-\\alpha)h(x')$"
   ]
  },
  {
   "cell_type": "markdown",
   "metadata": {},
   "source": [
    "The above inequality proves that $h$ is weakly convex"
   ]
  },
  {
   "cell_type": "markdown",
   "metadata": {
    "tags": [
     "AST"
    ]
   },
   "source": [
    "## Part 2: Score and Loss Functions "
   ]
  },
  {
   "cell_type": "markdown",
   "metadata": {
    "tags": [
     "AST"
    ]
   },
   "source": [
    "### Problem 2.1 (Exam Style)"
   ]
  },
  {
   "cell_type": "markdown",
   "metadata": {
    "tags": [
     "AST"
    ]
   },
   "source": [
    "### Problem 2.2 (Exam Style)"
   ]
  },
  {
   "cell_type": "markdown",
   "metadata": {
    "tags": [
     "AST"
    ]
   },
   "source": [
    "### Problem 2.3"
   ]
  },
  {
   "cell_type": "markdown",
   "metadata": {
    "tags": [
     "AST"
    ]
   },
   "source": [
    "### Problem 2.4 (Exam Style)"
   ]
  },
  {
   "cell_type": "markdown",
   "metadata": {
    "tags": [
     "AST"
    ]
   },
   "source": [
    "### Problem 2.5 (Exam Style)"
   ]
  },
  {
   "cell_type": "markdown",
   "metadata": {
    "tags": [
     "AST"
    ]
   },
   "source": [
    "## Part 3: The Multiclass Logistic-Regression Classifier"
   ]
  },
  {
   "cell_type": "code",
   "execution_count": 15,
   "metadata": {
    "tags": [
     "AST"
    ]
   },
   "outputs": [],
   "source": [
    "from urllib.request import urlretrieve\n",
    "from os import path as osp\n",
    "\n",
    "\n",
    "def retrieve(file_name, semester='fall22', course='371', homework=5):\n",
    "    if osp.exists(file_name):\n",
    "        print('Using previously downloaded file {}'.format(file_name))\n",
    "    else:\n",
    "        fmt = 'https://www2.cs.duke.edu/courses/{}/compsci{}/homework/{}/{}'\n",
    "        url = fmt.format(semester, course, homework, file_name)\n",
    "        urlretrieve(url, file_name)\n",
    "        print('Downloaded file {}'.format(file_name))"
   ]
  },
  {
   "cell_type": "code",
   "execution_count": 16,
   "metadata": {
    "tags": [
     "AST"
    ]
   },
   "outputs": [
    {
     "name": "stdout",
     "output_type": "stream",
     "text": [
      "Using previously downloaded file vowel.train\n",
      "Using previously downloaded file vowel.test\n",
      "Using previously downloaded file vowels.py\n"
     ]
    }
   ],
   "source": [
    "retrieve('vowel.train')\n",
    "retrieve('vowel.test')\n",
    "retrieve('vowels.py')"
   ]
  },
  {
   "cell_type": "code",
   "execution_count": 17,
   "metadata": {
    "tags": [
     "AST"
    ]
   },
   "outputs": [],
   "source": [
    "from vowels import vowel_dataset\n",
    "import numpy as np\n",
    "\n",
    "dataset = vowel_dataset()"
   ]
  },
  {
   "cell_type": "markdown",
   "metadata": {
    "tags": [
     "AST"
    ]
   },
   "source": [
    "### Problem 3.1"
   ]
  },
  {
   "cell_type": "markdown",
   "metadata": {
    "tags": [
     "AST"
    ]
   },
   "source": [
    "### Problem 3.2 (Exam Style)"
   ]
  },
  {
   "cell_type": "markdown",
   "metadata": {
    "tags": [
     "AST"
    ]
   },
   "source": [
    "### Problem 3.3"
   ]
  },
  {
   "cell_type": "markdown",
   "metadata": {
    "tags": [
     "AST"
    ]
   },
   "source": [
    "### Problem 3.4"
   ]
  },
  {
   "cell_type": "markdown",
   "metadata": {
    "tags": [
     "AST"
    ]
   },
   "source": [
    "### Problem 3.5 (Exam Style)"
   ]
  }
 ],
 "metadata": {
  "kernelspec": {
   "display_name": "Python 3 (ipykernel)",
   "language": "python",
   "name": "python3"
  },
  "language_info": {
   "codemirror_mode": {
    "name": "ipython",
    "version": 3
   },
   "file_extension": ".py",
   "mimetype": "text/x-python",
   "name": "python",
   "nbconvert_exporter": "python",
   "pygments_lexer": "ipython3",
   "version": "3.9.7"
  },
  "pycharm": {
   "stem_cell": {
    "cell_type": "raw",
    "metadata": {
     "collapsed": false
    },
    "source": []
   }
  }
 },
 "nbformat": 4,
 "nbformat_minor": 2
}
