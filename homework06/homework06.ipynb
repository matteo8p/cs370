{
 "cells": [
  {
   "cell_type": "markdown",
   "metadata": {
    "tags": [
     "AST"
    ]
   },
   "source": [
    "<style>\n",
    "    @media print{\n",
    "        body {\n",
    "            position:relative !important;\n",
    "        }\n",
    "        .celltag_new_page {\n",
    "            page-break-before: always !important;\n",
    "        }\n",
    "    }\n",
    "</style>\n",
    "# COMPSCI 371 Homework 6"
   ]
  },
  {
   "cell_type": "markdown",
   "metadata": {},
   "source": [
    "Partners: Brian Janger, Matthew Wang, Caleb Watson"
   ]
  },
  {
   "cell_type": "markdown",
   "metadata": {
    "tags": [
     "AT"
    ]
   },
   "source": [
    "### Problem 0 (3 points)"
   ]
  },
  {
   "cell_type": "markdown",
   "metadata": {
    "tags": [
     "AST"
    ]
   },
   "source": [
    "## Part 1: Regularization in Logistic Regression Classification "
   ]
  },
  {
   "cell_type": "code",
   "execution_count": 1,
   "metadata": {
    "tags": [
     "AST"
    ]
   },
   "outputs": [],
   "source": [
    "from urllib.request import urlretrieve\n",
    "from os import path as osp\n",
    "\n",
    "\n",
    "def retrieve(file_name, semester='fall22', course='371', homework=6):\n",
    "    if osp.exists(file_name):\n",
    "        print('Using previously downloaded file {}'.format(file_name))\n",
    "    else:\n",
    "        fmt = 'https://www2.cs.duke.edu/courses/{}/compsci{}/homework/{}/{}'\n",
    "        url = fmt.format(semester, course, homework, file_name)\n",
    "        urlretrieve(url, file_name)\n",
    "        print('Downloaded file {}'.format(file_name))"
   ]
  },
  {
   "cell_type": "code",
   "execution_count": 2,
   "metadata": {
    "tags": [
     "AST"
    ]
   },
   "outputs": [
    {
     "name": "stdout",
     "output_type": "stream",
     "text": [
      "Using previously downloaded file non_separable.pickle\n",
      "Using previously downloaded file ad.pickle\n"
     ]
    }
   ],
   "source": [
    "import pickle\n",
    "\n",
    "scalar_data_file = 'non_separable.pickle'\n",
    "retrieve(scalar_data_file)\n",
    "with open(scalar_data_file, 'rb') as file:\n",
    "    scalar_data = pickle.load(file)\n",
    "    \n",
    "ad_data_file = 'ad.pickle'\n",
    "retrieve(ad_data_file)\n",
    "with open(ad_data_file, 'rb') as file:\n",
    "    ad_data = pickle.load(file)"
   ]
  },
  {
   "cell_type": "code",
   "execution_count": 3,
   "metadata": {
    "tags": [
     "AST"
    ]
   },
   "outputs": [],
   "source": [
    "from matplotlib import pyplot as plt\n",
    "import numpy as np\n",
    "%matplotlib inline"
   ]
  },
  {
   "cell_type": "markdown",
   "metadata": {
    "tags": [
     "AST"
    ]
   },
   "source": [
    "### Problem 1.1"
   ]
  },
  {
   "cell_type": "code",
   "execution_count": 4,
   "metadata": {},
   "outputs": [
    {
     "data": {
      "image/png": "[encoded data removed]",
      "text/plain": [
       "<Figure size 432x288 with 1 Axes>"
      ]
     },
     "metadata": {
      "needs_background": "light"
     },
     "output_type": "display_data"
    }
   ],
   "source": [
    "import numpy as np \n",
    "\n",
    "def alpha(beta, omega, x): \n",
    "    return beta + omega * x\n",
    "\n",
    "def risk_function(x, y, omega):\n",
    "    return np.log(1 + np.exp(-alpha(0, omega, x))) + (1 - y) * alpha(0, omega, x)\n",
    "\n",
    "def plot_omegas_and_risks(data):\n",
    "    omegas = np.linspace(-3, 6, 60)\n",
    "    training_risks = []\n",
    "    N = len(data['x'])\n",
    "\n",
    "    for omega in omegas: \n",
    "        loss_sum = 0\n",
    "        for i in range(0, N): \n",
    "            x = data['x'][i]\n",
    "            y = data['y'][i]\n",
    "            loss_sum += risk_function(x, y, omega)\n",
    "        training_risks.append(loss_sum / N)\n",
    "\n",
    "    plt.semilogy(omegas, training_risks)\n",
    "    plt.title('Omegas and Training Risks')\n",
    "    plt.xlabel('Omega')\n",
    "    plt.ylabel('Training Risk')\n",
    "    plt.show()\n",
    "\n",
    "plot_omegas_and_risks(scalar_data)"
   ]
  },
  {
   "cell_type": "markdown",
   "metadata": {
    "tags": [
     "AST"
    ]
   },
   "source": [
    "### Problem 1.2"
   ]
  },
  {
   "cell_type": "code",
   "execution_count": 5,
   "metadata": {},
   "outputs": [
    {
     "data": {
      "image/png": "[encoded data removed]",
      "text/plain": [
       "<Figure size 432x288 with 1 Axes>"
      ]
     },
     "metadata": {
      "needs_background": "light"
     },
     "output_type": "display_data"
    }
   ],
   "source": [
    "import copy \n",
    "\n",
    "seperable_data = copy.deepcopy(scalar_data)\n",
    "for i in range(0, len(seperable_data['x'])):\n",
    "    if seperable_data['y'][i] == 1: \n",
    "        seperable_data['x'][i] += 10\n",
    "    else:\n",
    "        seperable_data['x'][i] -= 10\n",
    "        \n",
    "plot_omegas_and_risks(seperable_data)"
   ]
  },
  {
   "cell_type": "markdown",
   "metadata": {
    "tags": [
     "AST"
    ]
   },
   "source": [
    "### Problem 1.3"
   ]
  },
  {
   "cell_type": "code",
   "execution_count": 6,
   "metadata": {
    "tags": [
     "AT"
    ]
   },
   "outputs": [],
   "source": [
    "from sklearn.linear_model import LogisticRegression\n",
    "from sklearn.linear_model import LogisticRegressionCV\n",
    "\n",
    "def train_and_test(data, cs=10000, folds=None, max_iter=10000):\n",
    "    \n",
    "    if isinstance(cs, int): \n",
    "        h = LogisticRegression(C=cs, max_iter=max_iter)     \n",
    "        h.fit(data['train']['x'], data['train']['y'])\n",
    "        \n",
    "        for dataset in ('train', 'test'):\n",
    "            accuracy = h.score(data[dataset]['x'], data[dataset]['y'])\n",
    "            print('{} empirical_accuracy is {:.2f} percent'.format(dataset, accuracy * 100))\n",
    "        return h\n",
    "    \n",
    "    else: \n",
    "        h = LogisticRegressionCV(Cs=cs, cv=folds, max_iter=max_iter)\n",
    "        h.fit(data['train']['x'], data['train']['y'])\n",
    "        \n",
    "        for dataset in ('train', 'test'):\n",
    "            accuracy = h.score(data[dataset]['x'], data[dataset]['y'])\n",
    "            print('{} empirical_accuracy is {:.2f} percent'.format(dataset, accuracy * 100))\n",
    "        return h\n"
   ]
  },
  {
   "cell_type": "code",
   "execution_count": 7,
   "metadata": {
    "tags": [
     "AT"
    ]
   },
   "outputs": [
    {
     "name": "stdout",
     "output_type": "stream",
     "text": [
      "train empirical_accuracy is 99.41 percent\n",
      "test empirical_accuracy is 94.83 percent\n"
     ]
    }
   ],
   "source": [
    "lrc = train_and_test(ad_data)"
   ]
  },
  {
   "cell_type": "code",
   "execution_count": 8,
   "metadata": {},
   "outputs": [],
   "source": [
    "import numpy as np\n",
    "import matplotlib.pyplot as plt\n",
    "\n",
    "def analyze_cv(h):\n",
    "    best_c, c_values, scores = h.C_[0], h.Cs_, h.scores_[1]\n",
    "    best_index = np.where(c_values == best_c)[0][0]\n",
    "    \n",
    "    print('Best value of C: {}'.format(best_c))\n",
    "    \n",
    "    mean_scores = np.mean(scores, axis=0)\n",
    "    error_scores = np.std(scores, axis=0)\n",
    "    \n",
    "    plt.plot(c_values, mean_scores)\n",
    "    plt.errorbar(c_values, mean_scores, yerr = error_scores)\n",
    "    plt.plot(best_c, mean_scores[best_index], 'ro')\n",
    "    plt.gca().set_xscale('log')\n",
    "    plt.show()    \n"
   ]
  },
  {
   "cell_type": "code",
   "execution_count": 9,
   "metadata": {
    "tags": [
     "AT"
    ]
   },
   "outputs": [
    {
     "name": "stdout",
     "output_type": "stream",
     "text": [
      "train empirical_accuracy is 99.15 percent\n",
      "test empirical_accuracy is 96.78 percent\n",
      "Best value of C: 0.1\n"
     ]
    },
    {
     "data": {
      "image/png": "[encoded data removed]",
      "text/plain": [
       "<Figure size 432x288 with 1 Axes>"
      ]
     },
     "metadata": {
      "needs_background": "light"
     },
     "output_type": "display_data"
    }
   ],
   "source": [
    "c_candidates = np.logspace(-3, 6, num=10)\n",
    "lrc = train_and_test(ad_data, c_candidates, folds=5)\n",
    "analyze_cv(lrc)"
   ]
  },
  {
   "cell_type": "markdown",
   "metadata": {
    "tags": [
     "AST"
    ]
   },
   "source": [
    "## Part 2: The Bootstrap"
   ]
  },
  {
   "cell_type": "code",
   "execution_count": 10,
   "metadata": {
    "tags": [
     "AST"
    ]
   },
   "outputs": [
    {
     "name": "stdout",
     "output_type": "stream",
     "text": [
      "Using previously downloaded file times.pickle\n"
     ]
    }
   ],
   "source": [
    "times_file = 'times.pickle'\n",
    "retrieve(times_file)\n",
    "with open(times_file, 'rb') as file:\n",
    "    times = pickle.load(file)\n",
    "n = len(times)"
   ]
  },
  {
   "cell_type": "code",
   "execution_count": 11,
   "metadata": {
    "tags": [
     "AST"
    ]
   },
   "outputs": [
    {
     "name": "stdout",
     "output_type": "stream",
     "text": [
      "estimated wait time 13.1083 seconds\n"
     ]
    }
   ],
   "source": [
    "m_hat = np.mean(times)\n",
    "print('estimated wait time {:.4f} seconds'.format(m_hat))"
   ]
  },
  {
   "cell_type": "markdown",
   "metadata": {
    "tags": [
     "AST"
    ]
   },
   "source": [
    "### Problem 2.1"
   ]
  },
  {
   "cell_type": "code",
   "execution_count": 12,
   "metadata": {},
   "outputs": [
    {
     "name": "stdout",
     "output_type": "stream",
     "text": [
      "Using the bootstrap method, the estimated mean wait time is 13.0973 seconds and the standard deviation is 1.2373 seconds.\n"
     ]
    }
   ],
   "source": [
    "def bootstrap(data, sample_size=None, iterations=10000, replace=True):\n",
    "    if sample_size is None: sample_size=len(data)\n",
    "    means = []\n",
    "    for i in range(1,iterations):\n",
    "        if replace is True:        # selection with replacement\n",
    "            means.append(np.mean(np.random.choice(data, size=sample_size, replace=True)))\n",
    "        else:                   # selection without replacement\n",
    "            means.append(np.mean(np.random.choice(data, size=sample_size, replace=False)))\n",
    "    return np.mean(np.array(means)), np.std(np.array(means))\n",
    "\n",
    "\n",
    "m_b, std_b = bootstrap(times)\n",
    "print('Using the bootstrap method, the estimated mean wait time is {:.4f} seconds'.format(m_b)\n",
    "      + ' and the standard deviation is {:.4f} seconds.'.format(std_b))"
   ]
  },
  {
   "cell_type": "markdown",
   "metadata": {
    "tags": [
     "AST"
    ]
   },
   "source": [
    "### Problem 2.2 (Exam Style)"
   ]
  },
  {
   "cell_type": "markdown",
   "metadata": {},
   "source": [
    "When reporting the estimates from the bootstrap method to our boss, we would opt to report to the nearest integer. After running several iterations of the bootstrap method, each the values of the estimated mean begin to disagree starting at the first decimal place therefore preventing additional precision to confidently be reported. "
   ]
  },
  {
   "cell_type": "markdown",
   "metadata": {
    "tags": [
     "AST"
    ]
   },
   "source": [
    "### Problem 2.3"
   ]
  },
  {
   "cell_type": "code",
   "execution_count": 13,
   "metadata": {},
   "outputs": [
    {
     "name": "stdout",
     "output_type": "stream",
     "text": [
      "The true mean of p(t) is 12.5000 seconds.\n",
      "The empirical average of the entire set times is 13.1083 seconds.\n",
      "The empirical average computed by bootstrap is 13.1214 seconds.\n"
     ]
    }
   ],
   "source": [
    "m_lambda = 12.5000\n",
    "m_times = np.mean(times)\n",
    "m_b = bootstrap(times)[0]\n",
    "\n",
    "print('The true mean of p(t) is {:.4f} seconds.'.format(m_lambda))\n",
    "print('The empirical average of the entire set times is {:.4f} seconds.'.format(m_times))\n",
    "print('The empirical average computed by bootstrap is {:.4f} seconds.'.format(m_b))"
   ]
  },
  {
   "cell_type": "markdown",
   "metadata": {
    "tags": [
     "AST"
    ]
   },
   "source": [
    "### Problem 2.4 (Exam Style)"
   ]
  },
  {
   "cell_type": "markdown",
   "metadata": {},
   "source": [
    "The empirical averages are more similar to one another than the true mean of the exponential distribution p(t), which makes sense given they are derived from the same subarray of times as opposed to the entire underlying probability distirbution for all time values greater than zero. Given this, as the subarray of times begins to increase in size, we would expect the empirical and true values to approach one another - however, since we are using a smaller array of times, we see that the true mean and the empirical average of the set are different from one another."
   ]
  },
  {
   "cell_type": "markdown",
   "metadata": {
    "tags": [
     "AST"
    ]
   },
   "source": [
    "### Problem 2.5"
   ]
  },
  {
   "cell_type": "code",
   "execution_count": 14,
   "metadata": {},
   "outputs": [
    {
     "name": "stdout",
     "output_type": "stream",
     "text": [
      "The true standard deviation of p(t) is 12.5000 seconds.\n",
      "The empirical standard deviation of the entire set times is 12.4875 seconds.\n",
      "The true standard deviation of a sample of N numbers out of p(t) is 1.2500 seconds.\n",
      "The empirical standard deviation computed by bootstrap is 1.2469 seconds.\n"
     ]
    }
   ],
   "source": [
    "import math\n",
    "sd_lambda = 12.5000\n",
    "sd_times = np.std(times)\n",
    "sd_p = 12.5000 / math.sqrt(n)\n",
    "sd_b = bootstrap(times)[1]\n",
    "\n",
    "print('The true standard deviation of p(t) is {:.4f} seconds.'.format(sd_lambda))\n",
    "print('The empirical standard deviation of the entire set times is {:.4f} seconds.'.format(sd_times))\n",
    "print('The true standard deviation of a sample of N numbers out of p(t) is {:.4f} seconds.'.format(sd_p))\n",
    "print('The empirical standard deviation computed by bootstrap is {:.4f} seconds.'.format(sd_b))"
   ]
  },
  {
   "cell_type": "markdown",
   "metadata": {
    "tags": [
     "AST"
    ]
   },
   "source": [
    "### Problem 2.6"
   ]
  },
  {
   "cell_type": "code",
   "execution_count": 15,
   "metadata": {},
   "outputs": [
    {
     "data": {
      "image/png": "[encoded data removed]",
      "text/plain": [
       "<Figure size 432x288 with 1 Axes>"
      ]
     },
     "metadata": {
      "needs_background": "light"
     },
     "output_type": "display_data"
    }
   ],
   "source": [
    "sample_size = [i for i in range(10, 110, 10)]\n",
    "sd_hat = []\n",
    "sd = []\n",
    "for k in sample_size:    \n",
    "    sd_hat.append(bootstrap(times[0:k], replace=True)[1])\n",
    "    sd.append(12.5/math.sqrt(k))\n",
    "\n",
    "def plot(x, y, labels):\n",
    "    for value in range(len(y)):\n",
    "        plt.plot(x, y[value], label=labels[value])\n",
    "    plt.xlabel('Sample size')\n",
    "    plt.ylabel('Standard deviation')\n",
    "    plt.legend()\n",
    "    \n",
    "plot(sample_size, [sd_hat, sd], ['sd hat', 'sd'])"
   ]
  },
  {
   "cell_type": "markdown",
   "metadata": {
    "tags": [
     "AST"
    ]
   },
   "source": [
    "### Problem 2.7 (Exam Style Except for the Code)"
   ]
  },
  {
   "cell_type": "code",
   "execution_count": 16,
   "metadata": {},
   "outputs": [
    {
     "data": {
      "image/png": "[encoded data removed]",
      "text/plain": [
       "<Figure size 432x288 with 1 Axes>"
      ]
     },
     "metadata": {
      "needs_background": "light"
     },
     "output_type": "display_data"
    }
   ],
   "source": [
    "sd_hat = []\n",
    "for k in sample_size: \n",
    "    sd_hat.append(bootstrap(times, sample_size=k, replace=False)[1])\n",
    "plot(sample_size, [sd_hat, sd], ['sd hat', 'sd'])"
   ]
  },
  {
   "cell_type": "markdown",
   "metadata": {},
   "source": [
    "As the results above show, the bootstrap continues to underestimate the true value for the standard deviation more and more as k increases from 10 to 100 samples. \n",
    "\n",
    "We know from the problem description that the times array has a length of $N$=100. When we do the bootstrap (without replacement) on the array times for a small number of samples, $k$, we see that the standard deviations are fairly close to each other. As the value of $k$ increases, we must observe that sampling without replacement must cause the proper sets $T_k$ of $T$ to be more alike each other. We can even see that in the case where $k$=100, the empirical standard deviation computed by this version of the bootstrap is zero - this is because every set $T_k$ will be the exact same set as we will have the same 100 values from the 100 values in the times array. Every mean of the sets $T_k$ will be the same and thus, the standard deviation is zero. Note that this is the extreme case, but we can use this observation to show that the sets $T_k$ will be more alike each other when we increase $k$ in bootstrapping without replacement, which causes the means to be more alike (as the sets become more alike with more overlapping/similar values) and thus lowering the standard deviation further from the true standard deviation (which is calculated from the infinite number of possible samples of $k$ values from the probability density function - since we aren't limited on the size of the set we are sampling from, the samples will be more alike the actual probability distribution and we will thus have an increasingly greater standard deviation difference with higher $k$). "
   ]
  }
 ],
 "metadata": {
  "celltoolbar": "Tags",
  "kernelspec": {
   "display_name": "Python 3 (ipykernel)",
   "language": "python",
   "name": "python3"
  },
  "language_info": {
   "codemirror_mode": {
    "name": "ipython",
    "version": 3
   },
   "file_extension": ".py",
   "mimetype": "text/x-python",
   "name": "python",
   "nbconvert_exporter": "python",
   "pygments_lexer": "ipython3",
   "version": "3.9.12"
  },
  "pycharm": {
   "stem_cell": {
    "cell_type": "raw",
    "metadata": {
     "collapsed": false
    },
    "source": []
   }
  }
 },
 "nbformat": 4,
 "nbformat_minor": 2
}
