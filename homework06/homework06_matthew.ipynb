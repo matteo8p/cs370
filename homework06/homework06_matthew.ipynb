{
 "cells": [
  {
   "cell_type": "markdown",
   "metadata": {
    "tags": [
     "AST"
    ]
   },
   "source": [
    "<style>\n",
    "    @media print{\n",
    "        body {\n",
    "            position:relative !important;\n",
    "        }\n",
    "        .celltag_new_page {\n",
    "            page-break-before: always !important;\n",
    "        }\n",
    "    }\n",
    "</style>\n",
    "# COMPSCI 371 Homework 6"
   ]
  },
  {
   "cell_type": "markdown",
   "metadata": {
    "tags": [
     "AT"
    ]
   },
   "source": [
    "### Problem 0 (3 points)"
   ]
  },
  {
   "cell_type": "markdown",
   "metadata": {
    "tags": [
     "AST"
    ]
   },
   "source": [
    "## Part 1: Regularization in Logistic Regression Classification "
   ]
  },
  {
   "cell_type": "code",
   "execution_count": 1,
   "metadata": {
    "tags": [
     "AST"
    ]
   },
   "outputs": [],
   "source": [
    "from urllib.request import urlretrieve\n",
    "from os import path as osp\n",
    "\n",
    "\n",
    "def retrieve(file_name, semester='fall22', course='371', homework=6):\n",
    "    if osp.exists(file_name):\n",
    "        print('Using previously downloaded file {}'.format(file_name))\n",
    "    else:\n",
    "        fmt = 'https://www2.cs.duke.edu/courses/{}/compsci{}/homework/{}/{}'\n",
    "        url = fmt.format(semester, course, homework, file_name)\n",
    "        urlretrieve(url, file_name)\n",
    "        print('Downloaded file {}'.format(file_name))"
   ]
  },
  {
   "cell_type": "code",
   "execution_count": 2,
   "metadata": {
    "tags": [
     "AST"
    ]
   },
   "outputs": [
    {
     "name": "stdout",
     "output_type": "stream",
     "text": [
      "Using previously downloaded file non_separable.pickle\n",
      "Using previously downloaded file ad.pickle\n"
     ]
    }
   ],
   "source": [
    "import pickle\n",
    "\n",
    "scalar_data_file = 'non_separable.pickle'\n",
    "retrieve(scalar_data_file)\n",
    "with open(scalar_data_file, 'rb') as file:\n",
    "    scalar_data = pickle.load(file)\n",
    "    \n",
    "ad_data_file = 'ad.pickle'\n",
    "retrieve(ad_data_file)\n",
    "with open(ad_data_file, 'rb') as file:\n",
    "    ad_data = pickle.load(file)"
   ]
  },
  {
   "cell_type": "code",
   "execution_count": 3,
   "metadata": {
    "tags": [
     "AST"
    ]
   },
   "outputs": [],
   "source": [
    "from matplotlib import pyplot as plt\n",
    "import numpy as np\n",
    "%matplotlib inline"
   ]
  },
  {
   "cell_type": "markdown",
   "metadata": {
    "tags": [
     "AST"
    ]
   },
   "source": [
    "### Problem 1.1"
   ]
  },
  {
   "cell_type": "code",
   "execution_count": 18,
   "metadata": {},
   "outputs": [
    {
     "data": {
      "image/png": "[encoded data removed]",
      "text/plain": [
       "<Figure size 432x288 with 1 Axes>"
      ]
     },
     "metadata": {
      "needs_background": "light"
     },
     "output_type": "display_data"
    }
   ],
   "source": [
    "import numpy as np \n",
    "\n",
    "def alpha(beta, omega, x): \n",
    "    return beta + omega * x\n",
    "\n",
    "def risk_function(x, y, omega):\n",
    "    return np.log(1 + np.exp(-alpha(0, omega, x))) + (1 - y) * alpha(0, omega, x)\n",
    "\n",
    "def plot_omegas_and_risks(data):\n",
    "    omegas = np.linspace(-3, 6, 40)\n",
    "    training_risks = []\n",
    "    N = len(data['x'])\n",
    "\n",
    "    for omega in omegas: \n",
    "        loss_sum = 0\n",
    "        for i in range(0, N): \n",
    "            x = data['x'][i]\n",
    "            y = data['y'][i]\n",
    "            loss_sum += risk_function(x, y, omega)\n",
    "        training_risks.append(loss_sum / N)\n",
    "\n",
    "    plt.semilogy(omegas, training_risks)\n",
    "    plt.title('Omegas and Training Risks')\n",
    "    plt.xlabel('Omega')\n",
    "    plt.ylabel('Training Risk')\n",
    "    plt.show()\n",
    "\n",
    "plot_omegas_and_risks(scalar_data)\n",
    "    "
   ]
  },
  {
   "cell_type": "markdown",
   "metadata": {
    "tags": [
     "AST"
    ]
   },
   "source": [
    "### Problem 1.2"
   ]
  },
  {
   "cell_type": "code",
   "execution_count": 19,
   "metadata": {},
   "outputs": [
    {
     "data": {
      "image/png": "[encoded data removed]",
      "text/plain": [
       "<Figure size 432x288 with 1 Axes>"
      ]
     },
     "metadata": {
      "needs_background": "light"
     },
     "output_type": "display_data"
    }
   ],
   "source": [
    "import copy \n",
    "\n",
    "seperable_data = copy.deepcopy(scalar_data)\n",
    "for i in range(0, len(seperable_data['x'])):\n",
    "    if seperable_data['y'][i] == 1: \n",
    "        seperable_data['x'][i] += 10\n",
    "    else:\n",
    "        seperable_data['x'][i] -= 10\n",
    "        \n",
    "plot_omegas_and_risks(seperable_data)"
   ]
  },
  {
   "cell_type": "markdown",
   "metadata": {
    "tags": [
     "AST"
    ]
   },
   "source": [
    "### Problem 1.3"
   ]
  },
  {
   "cell_type": "code",
   "execution_count": 6,
   "metadata": {
    "tags": [
     "AT"
    ]
   },
   "outputs": [],
   "source": [
    "from sklearn.linear_model import LogisticRegression\n",
    "from sklearn.linear_model import LogisticRegressionCV\n",
    "\n",
    "def train_and_test(data, cs=10000, folds=None, max_iter=10000):\n",
    "    \n",
    "    if isinstance(cs, int): \n",
    "        h = LogisticRegression(C=cs, max_iter=max_iter)     \n",
    "        h.fit(data['train']['x'], data['train']['y'])\n",
    "        \n",
    "        for dataset in ('train', 'test'):\n",
    "            accuracy = h.score(data[dataset]['x'], data[dataset]['y'])\n",
    "            print('{} empirical_accuracy is {:.2f} percent'.format(dataset, accuracy * 100))\n",
    "        return h\n",
    "    \n",
    "    else: \n",
    "        h = LogisticRegressionCV(Cs=cs, cv=folds, max_iter=max_iter)\n",
    "        h.fit(data['train']['x'], data['train']['y'])\n",
    "        \n",
    "        for dataset in ('train', 'test'):\n",
    "            accuracy = h.score(data[dataset]['x'], data[dataset]['y'])\n",
    "            print('{} empirical_accuracy is {:.2f} percent'.format(dataset, accuracy * 100))\n",
    "        return h\n",
    "\n",
    "\n"
   ]
  },
  {
   "cell_type": "code",
   "execution_count": 7,
   "metadata": {
    "tags": [
     "AT"
    ]
   },
   "outputs": [
    {
     "name": "stdout",
     "output_type": "stream",
     "text": [
      "train empirical_accuracy is 99.41 percent\n",
      "test empirical_accuracy is 95.00 percent\n"
     ]
    }
   ],
   "source": [
    "lrc = train_and_test(ad_data)"
   ]
  },
  {
   "cell_type": "code",
   "execution_count": 16,
   "metadata": {},
   "outputs": [],
   "source": [
    "import numpy as np\n",
    "import matplotlib.pyplot as plt\n",
    "\n",
    "def analyze_cv(h):\n",
    "    best_c, c_values, scores = h.C_[0], h.Cs_, h.scores_[1]\n",
    "    best_index = np.where(c_values == best_c)[0][0]\n",
    "    \n",
    "    print('Best value of C: {}'.format(best_c))\n",
    "    print(c_values)\n",
    "    \n",
    "    mean_scores = np.mean(scores, axis=0)\n",
    "    error_scores = np.std(scores, axis=0)\n",
    "    \n",
    "    plt.plot(c_values, mean_scores)\n",
    "    plt.errorbar(c_values, mean_scores, yerr = error_scores)\n",
    "    plt.plot(best_c, mean_scores[best_index], 'ro')\n",
    "    plt.gca().set_xscale('log')\n",
    "    plt.show()\n",
    "    \n"
   ]
  },
  {
   "cell_type": "code",
   "execution_count": 17,
   "metadata": {
    "tags": [
     "AT"
    ]
   },
   "outputs": [
    {
     "name": "stdout",
     "output_type": "stream",
     "text": [
      "train empirical_accuracy is 99.15 percent\n",
      "test empirical_accuracy is 96.78 percent\n",
      "Best value of C: 0.1\n",
      "[1.e-03 1.e-02 1.e-01 1.e+00 1.e+01 1.e+02 1.e+03 1.e+04 1.e+05 1.e+06]\n"
     ]
    },
    {
     "data": {
      "image/png": "[encoded data removed]",
      "text/plain": [
       "<Figure size 432x288 with 1 Axes>"
      ]
     },
     "metadata": {
      "needs_background": "light"
     },
     "output_type": "display_data"
    }
   ],
   "source": [
    "c_candidates = np.logspace(-3, 6, num=10)\n",
    "lrc = train_and_test(ad_data, c_candidates, folds=5)\n",
    "analyze_cv(lrc)"
   ]
  },
  {
   "cell_type": "markdown",
   "metadata": {
    "tags": [
     "AST"
    ]
   },
   "source": [
    "## Part 2: The Bootstrap"
   ]
  },
  {
   "cell_type": "code",
   "execution_count": null,
   "metadata": {
    "tags": [
     "AST"
    ]
   },
   "outputs": [],
   "source": [
    "times_file = 'times.pickle'\n",
    "retrieve(times_file)\n",
    "with open(times_file, 'rb') as file:\n",
    "    times = pickle.load(file)\n",
    "n = len(times)"
   ]
  },
  {
   "cell_type": "code",
   "execution_count": null,
   "metadata": {
    "tags": [
     "AST"
    ]
   },
   "outputs": [],
   "source": [
    "m_hat = np.mean(times)\n",
    "print('estimated wait time {:.4f} seconds'.format(m_hat))"
   ]
  },
  {
   "cell_type": "markdown",
   "metadata": {
    "tags": [
     "AST"
    ]
   },
   "source": [
    "### Problem 2.1"
   ]
  },
  {
   "cell_type": "markdown",
   "metadata": {
    "tags": [
     "AST"
    ]
   },
   "source": [
    "### Problem 2.2 (Exam Style)"
   ]
  },
  {
   "cell_type": "markdown",
   "metadata": {
    "tags": [
     "AST"
    ]
   },
   "source": [
    "### Problem 2.3"
   ]
  },
  {
   "cell_type": "markdown",
   "metadata": {
    "tags": [
     "AST"
    ]
   },
   "source": [
    "### Problem 2.4 (Exam Style)"
   ]
  },
  {
   "cell_type": "markdown",
   "metadata": {
    "tags": [
     "AST"
    ]
   },
   "source": [
    "### Problem 2.5"
   ]
  },
  {
   "cell_type": "markdown",
   "metadata": {
    "tags": [
     "AST"
    ]
   },
   "source": [
    "### Problem 2.6"
   ]
  },
  {
   "cell_type": "markdown",
   "metadata": {
    "tags": [
     "AST"
    ]
   },
   "source": [
    "### Problem 2.7 (Exam Style Except for the Code)"
   ]
  }
 ],
 "metadata": {
  "celltoolbar": "Tags",
  "kernelspec": {
   "display_name": "Python 3 (ipykernel)",
   "language": "python",
   "name": "python3"
  },
  "language_info": {
   "codemirror_mode": {
    "name": "ipython",
    "version": 3
   },
   "file_extension": ".py",
   "mimetype": "text/x-python",
   "name": "python",
   "nbconvert_exporter": "python",
   "pygments_lexer": "ipython3",
   "version": "3.9.7"
  },
  "pycharm": {
   "stem_cell": {
    "cell_type": "raw",
    "metadata": {
     "collapsed": false
    },
    "source": []
   }
  }
 },
 "nbformat": 4,
 "nbformat_minor": 2
}
