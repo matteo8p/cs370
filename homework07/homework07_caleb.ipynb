{
 "cells": [
  {
   "cell_type": "markdown",
   "metadata": {
    "tags": [
     "AST"
    ]
   },
   "source": [
    "<style>\n",
    "    @media print{\n",
    "        body {\n",
    "            position:relative !important;\n",
    "        }\n",
    "        .celltag_new_page {\n",
    "            page-break-before: always !important;\n",
    "        }\n",
    "    }\n",
    "</style>\n",
    "# COMPSCI 371 Homework 7"
   ]
  },
  {
   "cell_type": "markdown",
   "metadata": {},
   "source": [
    "Partners: Brian Janger, Matthew Wang, Caleb Watson"
   ]
  },
  {
   "cell_type": "markdown",
   "metadata": {
    "tags": [
     "AT"
    ]
   },
   "source": [
    "### Problem 0 (3 points)"
   ]
  },
  {
   "cell_type": "markdown",
   "metadata": {
    "tags": [
     "AST"
    ]
   },
   "source": [
    "## Part 1: Linear Support Vector Machine Basics"
   ]
  },
  {
   "cell_type": "markdown",
   "metadata": {
    "tags": [
     "AST"
    ]
   },
   "source": [
    "### Problem 1.1 (Exam Style)"
   ]
  },
  {
   "cell_type": "markdown",
   "metadata": {},
   "source": [
    "It is possible to find values $w, b$ such that $H(w,b)=0$ because the training set $T$ is linearly separable - since a linear SVM is a linear classifier, if the data is separable, it is possible to find a hyperplane that perfectly divides the data, making the hinge loss zero."
   ]
  },
  {
   "cell_type": "markdown",
   "metadata": {
    "tags": [
     "AST"
    ]
   },
   "source": [
    "### Problem 1.2 (Exam Style)"
   ]
  },
  {
   "cell_type": "markdown",
   "metadata": {},
   "source": [
    "The reference margin $\\mu^*$ is equal to the distance from the decision boundary to the closest point to the decision boundary.\n",
    "\n",
    "The decision boundary with maximum reference margin when $H(w^*,b^*)=0$ (or in words, when the boundary perfectly separates the data) is a linear boundary where the two closest points to the boundary (one in each half-space) are equidistant from the boundary.\n",
    "\n",
    "We can see that the two points that will be the closest points are $(1,-1)$ and $(2,1)$ for our hyperplane when maximizing the distance from these points to the hyperplane. We'll say that the hyperplane is orthogonal to and goes through the midpoint of the line formed by connecting the two aforementioned points. \n",
    "\n",
    "The midpoint of these two points is $(1.5,0)$; therefore, the shortest distance from each of the two (equidistant) points is $\\mu^* = \\frac{\\sqrt{5}}{2}$."
   ]
  },
  {
   "cell_type": "markdown",
   "metadata": {
    "tags": [
     "AST"
    ]
   },
   "source": [
    "### Problem 1.3 (Exam Style)"
   ]
  },
  {
   "cell_type": "markdown",
   "metadata": {
    "tags": [
     "AST"
    ]
   },
   "source": [
    "### Problem 1.4 (Exam Style)"
   ]
  },
  {
   "cell_type": "markdown",
   "metadata": {
    "tags": [
     "AST"
    ]
   },
   "source": [
    "### Problem 1.5 (Exam Style)"
   ]
  },
  {
   "cell_type": "markdown",
   "metadata": {
    "tags": [
     "AST"
    ]
   },
   "source": [
    "## Part 2: Binary Linear SVMs and LRCs "
   ]
  },
  {
   "cell_type": "markdown",
   "metadata": {
    "tags": [
     "AST"
    ]
   },
   "source": [
    "### Problem 2.1"
   ]
  },
  {
   "cell_type": "code",
   "execution_count": 9,
   "metadata": {},
   "outputs": [
    {
     "data": {
      "text/plain": [
       "<matplotlib.legend.Legend at 0x7f8e40b125b0>"
      ]
     },
     "execution_count": 9,
     "metadata": {},
     "output_type": "execute_result"
    },
    {
     "data": {
      "image/png": "[encoded data removed]",
      "text/plain": [
       "<Figure size 432x288 with 1 Axes>"
      ]
     },
     "metadata": {
      "needs_background": "light"
     },
     "output_type": "display_data"
    }
   ],
   "source": [
    "import numpy as np\n",
    "import math\n",
    "from matplotlib import pyplot as plt\n",
    "\n",
    "def score(alpha):\n",
    "    return 1/(1+ math.exp(-alpha))\n",
    "\n",
    "def cross_loss(y, alpha):\n",
    "    return -y*np.log(score(alpha)) - (1-y)*np.log(1-score(alpha))\n",
    "\n",
    "def hinge_loss(y, alpha):\n",
    "    return max(0, 1-y*alpha)\n",
    "\n",
    "alpha_space = np.linspace(-3,3)\n",
    "l_ce = [cross_loss(1, a) for a in alpha_space]\n",
    "l_e = [hinge_loss(1, a) for a in alpha_space]\n",
    "\n",
    "plt.plot(alpha_space, l_ce, label='cross-entropy loss')\n",
    "plt.plot(alpha_space, l_e, label='hinge loss')\n",
    "plt.xlabel('Activation')\n",
    "plt.ylabel('Loss')\n",
    "plt.legend()"
   ]
  },
  {
   "cell_type": "markdown",
   "metadata": {
    "tags": [
     "AST"
    ]
   },
   "source": [
    "### Problem 2.2"
   ]
  },
  {
   "cell_type": "code",
   "execution_count": 3,
   "metadata": {
    "scrolled": false,
    "tags": [
     "AST"
    ]
   },
   "outputs": [],
   "source": [
    "from urllib.request import urlretrieve\n",
    "from os import path as osp\n",
    "import pickle\n",
    "\n",
    "\n",
    "def retrieve(file_name, semester='fall22', course='371', homework=7):\n",
    "    if osp.exists(file_name):\n",
    "        print('Using previously downloaded file {}'.format(file_name))\n",
    "    else:\n",
    "        fmt = 'https://www2.cs.duke.edu/courses/{}/compsci{}/homework/{}/{}'\n",
    "        url = fmt.format(semester, course, homework, file_name)\n",
    "        urlretrieve(url, file_name)\n",
    "        print('Downloaded file {}'.format(file_name))"
   ]
  },
  {
   "cell_type": "code",
   "execution_count": 4,
   "metadata": {
    "scrolled": false,
    "tags": [
     "AST"
    ]
   },
   "outputs": [
    {
     "name": "stdout",
     "output_type": "stream",
     "text": [
      "Downloaded file balanced.pickle\n"
     ]
    }
   ],
   "source": [
    "balanced_file_name = 'balanced.pickle'\n",
    "retrieve(balanced_file_name)"
   ]
  },
  {
   "cell_type": "code",
   "execution_count": 5,
   "metadata": {
    "scrolled": false,
    "tags": [
     "AST"
    ]
   },
   "outputs": [],
   "source": [
    "with open(balanced_file_name, 'rb') as file:\n",
    "    balanced_data = pickle.load(file)"
   ]
  },
  {
   "cell_type": "code",
   "execution_count": null,
   "metadata": {},
   "outputs": [],
   "source": [
    "# function to train either a LRC or SVM on the training portion of data_set\n",
    "def experiment(data_set, h, h_name):"
   ]
  },
  {
   "cell_type": "code",
   "execution_count": null,
   "metadata": {},
   "outputs": [],
   "source": [
    "experiment(balanced_data, LogisticRegression(), 'LRC')"
   ]
  },
  {
   "cell_type": "code",
   "execution_count": null,
   "metadata": {},
   "outputs": [],
   "source": [
    "experiment(balanced_data, SVC(kernel='linear'), 'SVM')"
   ]
  },
  {
   "cell_type": "markdown",
   "metadata": {
    "tags": [
     "AST"
    ]
   },
   "source": [
    "### Problem 2.3"
   ]
  },
  {
   "cell_type": "code",
   "execution_count": 14,
   "metadata": {
    "scrolled": true,
    "tags": [
     "AST"
    ]
   },
   "outputs": [
    {
     "name": "stdout",
     "output_type": "stream",
     "text": [
      "Downloaded file imbalanced.pickle\n"
     ]
    }
   ],
   "source": [
    "imbalanced_file_name = 'imbalanced.pickle'\n",
    "retrieve(imbalanced_file_name)"
   ]
  },
  {
   "cell_type": "code",
   "execution_count": 15,
   "metadata": {
    "tags": [
     "AST"
    ]
   },
   "outputs": [],
   "source": [
    "with open(imbalanced_file_name, 'rb') as file:\n",
    "    imbalanced_data = pickle.load(file)"
   ]
  }
 ],
 "metadata": {
  "celltoolbar": "Tags",
  "kernelspec": {
   "display_name": "Python 3 (ipykernel)",
   "language": "python",
   "name": "python3"
  },
  "language_info": {
   "codemirror_mode": {
    "name": "ipython",
    "version": 3
   },
   "file_extension": ".py",
   "mimetype": "text/x-python",
   "name": "python",
   "nbconvert_exporter": "python",
   "pygments_lexer": "ipython3",
   "version": "3.9.12"
  },
  "pycharm": {
   "stem_cell": {
    "cell_type": "raw",
    "metadata": {
     "collapsed": false
    },
    "source": []
   }
  }
 },
 "nbformat": 4,
 "nbformat_minor": 2
}
