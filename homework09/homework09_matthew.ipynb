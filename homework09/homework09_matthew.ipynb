{
 "cells": [
  {
   "cell_type": "markdown",
   "metadata": {
    "tags": [
     "AST"
    ]
   },
   "source": [
    "<style>\n",
    "    @media print{\n",
    "        body {\n",
    "            position:relative !important;\n",
    "        }\n",
    "        .celltag_new_page {\n",
    "            page-break-before: always !important;\n",
    "        }\n",
    "    }\n",
    "</style>\n",
    "# COMPSCI 371 Homework 9"
   ]
  },
  {
   "cell_type": "markdown",
   "metadata": {
    "tags": [
     "AT"
    ]
   },
   "source": [
    "### Problem 0 (5 points)"
   ]
  },
  {
   "cell_type": "markdown",
   "metadata": {
    "tags": [
     "AST"
    ]
   },
   "source": [
    "## Part 1: Impurity Measures "
   ]
  },
  {
   "cell_type": "markdown",
   "metadata": {
    "tags": [
     "AST"
    ]
   },
   "source": [
    "### Problem 1.1"
   ]
  },
  {
   "cell_type": "markdown",
   "metadata": {
    "tags": [
     "AST"
    ]
   },
   "source": [
    "### Problem 1.2"
   ]
  },
  {
   "cell_type": "markdown",
   "metadata": {
    "tags": [
     "AST"
    ]
   },
   "source": [
    "### Problem 1.3 (Exam Style)"
   ]
  },
  {
   "cell_type": "markdown",
   "metadata": {
    "tags": [
     "AST"
    ]
   },
   "source": [
    "### Problem 1.4 (Exam Style)"
   ]
  },
  {
   "cell_type": "code",
   "execution_count": 1,
   "metadata": {
    "tags": [
     "AST"
    ]
   },
   "outputs": [],
   "source": [
    "import numpy as np\n",
    "\n",
    "\n",
    "K = 3\n",
    "Y = np.arange(K)\n",
    "S = [0, 1, 1, 0, 0, 1, 0, 0, 2, 1, 1, 0, 2, 1, 0, 0]"
   ]
  },
  {
   "cell_type": "markdown",
   "metadata": {
    "tags": [
     "AST"
    ]
   },
   "source": [
    "## Part 2: Decision Tree Basics "
   ]
  },
  {
   "cell_type": "markdown",
   "metadata": {
    "tags": [
     "AST"
    ]
   },
   "source": [
    "### Problem 2.1 (Exam Style)"
   ]
  },
  {
   "cell_type": "markdown",
   "metadata": {
    "tags": [
     "AST"
    ]
   },
   "source": [
    "### Problem 2.2 (Exam Style)"
   ]
  },
  {
   "cell_type": "markdown",
   "metadata": {
    "tags": [
     "AST"
    ]
   },
   "source": [
    "### Problem 2.3 (Exam Style)"
   ]
  },
  {
   "cell_type": "markdown",
   "metadata": {
    "tags": [
     "AST"
    ]
   },
   "source": [
    "## Part 3: Splits "
   ]
  },
  {
   "cell_type": "markdown",
   "metadata": {
    "tags": [
     "AST"
    ]
   },
   "source": [
    "### Problem 3.1 (Exam Style)"
   ]
  },
  {
   "cell_type": "markdown",
   "metadata": {
    "tags": [
     "AT"
    ]
   },
   "source": [
    "$$\n",
    "i(S) = \n",
    "$$\n",
    "\n",
    "$$\n",
    "\\begin{array}{*{7}{c}l}\n",
    "j & t & |L| & i_L & |R| & i_R & \\delta &\\text{best} \\\\\\hline\n",
    "1 & 3 & 1 & 0   & 3 & 1/3 & 1/4 &  \\\\\n",
    "\\end{array}\n",
    "$$"
   ]
  },
  {
   "cell_type": "markdown",
   "metadata": {
    "tags": [
     "AST"
    ]
   },
   "source": [
    "## Part 4: Classification Trees"
   ]
  },
  {
   "cell_type": "code",
   "execution_count": 2,
   "metadata": {
    "tags": [
     "AST"
    ]
   },
   "outputs": [],
   "source": [
    "from urllib.request import urlretrieve\n",
    "from os import path as osp\n",
    "\n",
    "\n",
    "def retrieve(file_name, semester='fall22', course='371', homework=9):\n",
    "    if osp.exists(file_name):\n",
    "        print('Using previously downloaded file {}'.format(file_name))\n",
    "    else:\n",
    "        fmt = 'https://www2.cs.duke.edu/courses/{}/compsci{}/homework/{}/{}'\n",
    "        url = fmt.format(semester, course, homework, file_name)\n",
    "        urlretrieve(url, file_name)\n",
    "        print('Downloaded file {}'.format(file_name))"
   ]
  },
  {
   "cell_type": "code",
   "execution_count": 3,
   "metadata": {
    "tags": [
     "AST"
    ]
   },
   "outputs": [
    {
     "name": "stdout",
     "output_type": "stream",
     "text": [
      "Using previously downloaded file tree.py\n",
      "Using previously downloaded file draw.py\n",
      "Using previously downloaded file classification_data.pickle\n"
     ]
    }
   ],
   "source": [
    "import pickle\n",
    "\n",
    "classification_file = 'classification_data.pickle'\n",
    "for file_name in ('tree.py', 'draw.py', classification_file):\n",
    "    retrieve(file_name)\n",
    "    \n",
    "with open(classification_file, 'rb') as file:\n",
    "    classification_data = pickle.load(file)"
   ]
  },
  {
   "cell_type": "code",
   "execution_count": 4,
   "metadata": {
    "tags": [
     "AST"
    ]
   },
   "outputs": [],
   "source": [
    "from draw import colormap, sample_plot\n",
    "from matplotlib import pyplot as plt\n",
    "%matplotlib inline\n",
    "\n",
    "\n",
    "def draw_samples(samples, y_range, title=None):\n",
    "    cmap = colormap(y_range)\n",
    "    plt.figure(figsize=(7, 7), tight_layout=True)\n",
    "    sample_plot(samples, cmap, 12)\n",
    "    plt.axis('off')\n",
    "    plt.axis('equal')\n",
    "    if title is not None:\n",
    "        plt.title(title, fontsize=16)"
   ]
  },
  {
   "cell_type": "code",
   "execution_count": 5,
   "metadata": {
    "tags": [
     "AST"
    ]
   },
   "outputs": [],
   "source": [
    "training_set = classification_data['train']\n",
    "y_range = classification_data['y range']\n",
    "data_type = classification_data['type']"
   ]
  },
  {
   "cell_type": "code",
   "execution_count": 6,
   "metadata": {
    "tags": [
     "AST"
    ]
   },
   "outputs": [],
   "source": [
    "import numpy as np\n",
    "\n",
    "\n",
    "def categorical(samples, config):\n",
    "    p = [np.count_nonzero(samples['y'] == c)\n",
    "         for c in range(config['K'])]\n",
    "    return np.array(p, dtype=float) / np.sum(p)\n",
    "\n",
    "\n",
    "def error_rate(samples, config):\n",
    "    return 1. - np.amax(categorical(samples, config))"
   ]
  },
  {
   "cell_type": "code",
   "execution_count": 7,
   "metadata": {
    "tags": [
     "AST"
    ]
   },
   "outputs": [],
   "source": [
    "training_config = {\n",
    "    'min samples': 1,\n",
    "    'max depth': np.inf,\n",
    "    'distribution': categorical,\n",
    "    'impurity': error_rate,\n",
    "    'K': y_range[1] - y_range[0] + 1\n",
    "}"
   ]
  },
  {
   "cell_type": "code",
   "execution_count": 8,
   "metadata": {
    "tags": [
     "AST"
    ]
   },
   "outputs": [],
   "source": [
    "from tree import train_tree\n",
    "\n",
    "\n",
    "t = train_tree(training_set, 0, training_config)"
   ]
  },
  {
   "cell_type": "code",
   "execution_count": 9,
   "metadata": {
    "tags": [
     "AST"
    ]
   },
   "outputs": [],
   "source": [
    "def majority(p):\n",
    "    return np.argmax(p)"
   ]
  },
  {
   "cell_type": "code",
   "execution_count": 10,
   "metadata": {
    "tags": [
     "AST"
    ]
   },
   "outputs": [],
   "source": [
    "def zero_one_loss(y, y_hat):\n",
    "    return float(y != y_hat)"
   ]
  },
  {
   "cell_type": "code",
   "execution_count": 11,
   "metadata": {
    "tags": [
     "AST"
    ]
   },
   "outputs": [],
   "source": [
    "from tree import predict\n",
    "\n",
    "\n",
    "def performance(t, summary, samples, loss):\n",
    "    xs, ys = samples['x'], samples['y']\n",
    "    ys_hat = [predict(x, t, summary) for x in xs]\n",
    "    losses = [loss(y, y_hat) for y, y_hat in zip (ys, ys_hat)]\n",
    "    risk = np.mean(losses)\n",
    "    return risk"
   ]
  },
  {
   "cell_type": "code",
   "execution_count": 12,
   "metadata": {
    "tags": [
     "AST"
    ]
   },
   "outputs": [
    {
     "name": "stdout",
     "output_type": "stream",
     "text": [
      "classification training risk 0.000\n",
      "classification test risk 0.012\n"
     ]
    }
   ],
   "source": [
    "for which, samples in (\n",
    "        ('training', classification_data['train']),\n",
    "        ('test', classification_data['test'])\n",
    "):\n",
    "    risk = performance(t, majority, samples, zero_one_loss)\n",
    "    print('{} {} risk {:.3f}'.format(data_type, which, risk))"
   ]
  },
  {
   "cell_type": "markdown",
   "metadata": {
    "tags": [
     "AST"
    ]
   },
   "source": [
    "### Problem 4.1"
   ]
  },
  {
   "cell_type": "markdown",
   "metadata": {
    "tags": [
     "AST"
    ]
   },
   "source": [
    "### Problem 4.2"
   ]
  },
  {
   "cell_type": "code",
   "execution_count": 13,
   "metadata": {
    "tags": [
     "AST"
    ]
   },
   "outputs": [],
   "source": [
    "from draw import Box"
   ]
  },
  {
   "cell_type": "code",
   "execution_count": 14,
   "metadata": {
    "tags": [
     "AT"
    ]
   },
   "outputs": [],
   "source": [
    "def paint_tree(tau, samples, summary, y_range, title=None):\n",
    "    assert tau.j < 2, 'Can only draw two-dimensional trees'\n",
    "    cmap = colormap(y_range)\n",
    "    plt.figure(figsize=(8, 8), tight_layout=True)\n",
    "    box = Box(samples['x'], cmap=cmap)\n",
    "    plt.plot((box.left, box.right, box.right, box.left, box.left),\n",
    "             (box.down, box.down, box.up, box.up, box.down), 'k',\n",
    "             linewidth=0.5)\n",
    "    # paint_subtree(tau, box, summary)\n",
    "    sample_plot(samples, cmap, 5)\n",
    "    plt.axis('off')\n",
    "    plt.axis('equal')\n",
    "    if title is not None:\n",
    "        title += ' ({} boxes)'.format(count_leaves(tau))\n",
    "        plt.title(title, fontsize=16)\n",
    "    plt.show()"
   ]
  },
  {
   "cell_type": "markdown",
   "metadata": {
    "tags": [
     "AST"
    ]
   },
   "source": [
    "### Problem 4.3"
   ]
  },
  {
   "cell_type": "markdown",
   "metadata": {
    "tags": [
     "AST"
    ]
   },
   "source": [
    "## Part 5: Regression Trees "
   ]
  },
  {
   "cell_type": "code",
   "execution_count": 15,
   "metadata": {
    "tags": [
     "AST"
    ]
   },
   "outputs": [
    {
     "name": "stdout",
     "output_type": "stream",
     "text": [
      "Using previously downloaded file regression_data.pickle\n"
     ]
    }
   ],
   "source": [
    "regression_file = 'regression_data.pickle'\n",
    "retrieve(regression_file)\n",
    "\n",
    "with open(regression_file, 'rb') as file:\n",
    "    regression_data = pickle.load(file)"
   ]
  },
  {
   "cell_type": "code",
   "execution_count": 16,
   "metadata": {
    "tags": [
     "AST"
    ]
   },
   "outputs": [],
   "source": [
    "training_set = regression_data['train']\n",
    "y_range = regression_data['y range']\n",
    "data_type = regression_data['type']"
   ]
  },
  {
   "cell_type": "markdown",
   "metadata": {
    "tags": [
     "AST"
    ]
   },
   "source": [
    "### Problem 5.1"
   ]
  },
  {
   "cell_type": "markdown",
   "metadata": {
    "tags": [
     "AST"
    ]
   },
   "source": [
    "## Part 6: Random Decision Forests"
   ]
  },
  {
   "cell_type": "code",
   "execution_count": 17,
   "metadata": {
    "tags": [
     "AST"
    ]
   },
   "outputs": [
    {
     "name": "stdout",
     "output_type": "stream",
     "text": [
      "Using previously downloaded file spiral.pickle\n"
     ]
    }
   ],
   "source": [
    "spiral_file = 'spiral.pickle'\n",
    "retrieve(spiral_file)\n",
    "with open(spiral_file, 'rb') as file:\n",
    "    spiral = pickle.load(file)\n"
   ]
  },
  {
   "cell_type": "code",
   "execution_count": 18,
   "metadata": {
    "tags": [
     "AST"
    ]
   },
   "outputs": [],
   "source": [
    "from draw import coarse_regions"
   ]
  },
  {
   "cell_type": "markdown",
   "metadata": {
    "tags": [
     "AST"
    ]
   },
   "source": [
    "### Problem 6.1"
   ]
  },
  {
   "cell_type": "code",
   "execution_count": 19,
   "metadata": {},
   "outputs": [],
   "source": [
    "from sklearn.ensemble import RandomForestClassifier"
   ]
  },
  {
   "cell_type": "code",
   "execution_count": 20,
   "metadata": {},
   "outputs": [],
   "source": [
    "# Random forest classifier with 5 trees \n",
    "h_5 = RandomForestClassifier(\n",
    "    n_estimators=5,\n",
    "    max_depth=None,\n",
    "    min_samples_split=2,\n",
    "    random_state=0,\n",
    "    oob_score=True\n",
    ")\n",
    "\n",
    "# Random forest classifier with 500 trees \n",
    "h_500 = RandomForestClassifier(\n",
    "    n_estimators=500,\n",
    "    max_depth=None,\n",
    "    min_samples_split=2,\n",
    "    random_state=0,\n",
    "    oob_score=True\n",
    ")"
   ]
  },
  {
   "cell_type": "code",
   "execution_count": 21,
   "metadata": {},
   "outputs": [
    {
     "name": "stderr",
     "output_type": "stream",
     "text": [
      "/Users/matt8p/opt/anaconda3/lib/python3.9/site-packages/sklearn/ensemble/_forest.py:541: UserWarning: Some inputs do not have OOB scores. This probably means too few trees were used to compute any reliable oob estimates.\n",
      "  warn(\"Some inputs do not have OOB scores. \"\n",
      "/Users/matt8p/opt/anaconda3/lib/python3.9/site-packages/sklearn/ensemble/_forest.py:545: RuntimeWarning: invalid value encountered in true_divide\n",
      "  decision = (predictions[k] /\n"
     ]
    },
    {
     "data": {
      "text/plain": [
       "RandomForestClassifier(n_estimators=500, oob_score=True, random_state=0)"
      ]
     },
     "execution_count": 21,
     "metadata": {},
     "output_type": "execute_result"
    }
   ],
   "source": [
    "training = spiral['train']\n",
    "h_5.fit(training['x'], training['y'])\n",
    "h_500.fit(training['x'], training['y'])"
   ]
  },
  {
   "cell_type": "code",
   "execution_count": 22,
   "metadata": {},
   "outputs": [
    {
     "data": {
      "image/png": "[encoded data removed]",
      "text/plain": [
       "<Figure size 432x288 with 1 Axes>"
      ]
     },
     "metadata": {
      "needs_background": "light"
     },
     "output_type": "display_data"
    }
   ],
   "source": [
    "coarse_regions(h_5, spiral['labels'])"
   ]
  },
  {
   "cell_type": "code",
   "execution_count": 23,
   "metadata": {},
   "outputs": [
    {
     "data": {
      "image/png": "[encoded data removed]",
      "text/plain": [
       "<Figure size 432x288 with 1 Axes>"
      ]
     },
     "metadata": {
      "needs_background": "light"
     },
     "output_type": "display_data"
    }
   ],
   "source": [
    "coarse_regions(h_500, spiral['labels'])"
   ]
  },
  {
   "cell_type": "code",
   "execution_count": 24,
   "metadata": {},
   "outputs": [],
   "source": [
    "from sklearn.metrics import accuracy_score\n",
    "\n",
    "test = spiral['test']\n",
    "h_5_predict = h_5.predict(test['x'])\n",
    "h_500_predict = h_500.predict(test['x'])\n",
    "\n",
    "h_5_accuracy = accuracy_score(h_5_predict, test['y'])\n",
    "h_500_accuracy = accuracy_score(h_500_predict, test['y'])\n"
   ]
  },
  {
   "cell_type": "code",
   "execution_count": 25,
   "metadata": {},
   "outputs": [
    {
     "name": "stdout",
     "output_type": "stream",
     "text": [
      "Accuracy(5 tree): 91.125% \n",
      "OOB_Accuracy(5 tree): 65.25% \n",
      "\n",
      "Accuracy(500 tree): 96.475% \n",
      "OOB_Accuracy(500 tree): 90.25%\n"
     ]
    }
   ],
   "source": [
    "print('Accuracy(5 tree): {}% \\nOOB_Accuracy(5 tree): {}% \\n\\nAccuracy(500 tree): {}% \\nOOB_Accuracy(500 tree): {}%'.format(\n",
    "h_5_accuracy * 100,\n",
    "h_5.oob_score_ * 100,\n",
    "h_500_accuracy * 100,\n",
    "h_500.oob_score_ * 100\n",
    "))"
   ]
  },
  {
   "cell_type": "markdown",
   "metadata": {
    "tags": [
     "AST"
    ]
   },
   "source": [
    "### Problem 6.2 (Exam Style)"
   ]
  },
  {
   "cell_type": "markdown",
   "metadata": {},
   "source": [
    "**Why is the OOB accuracy off when 5 trees are used? Be quantitative, and refer to the slides on random forests for this part.**\n",
    "\n",
    "\n",
    "\n",
    "**How good is the OOB accuracy estimate with 500 trees? Compare it with the test accuracy. Which one is more reliable?**\n",
    "\n",
    "\n",
    "**How do the two sets of decision regions and the corresponding test accuracy values compare to each other, qualitatively?**\n",
    "\n"
   ]
  },
  {
   "cell_type": "code",
   "execution_count": null,
   "metadata": {},
   "outputs": [],
   "source": []
  }
 ],
 "metadata": {
  "kernelspec": {
   "display_name": "Python 3 (ipykernel)",
   "language": "python",
   "name": "python3"
  },
  "language_info": {
   "codemirror_mode": {
    "name": "ipython",
    "version": 3
   },
   "file_extension": ".py",
   "mimetype": "text/x-python",
   "name": "python",
   "nbconvert_exporter": "python",
   "pygments_lexer": "ipython3",
   "version": "3.9.7"
  },
  "pycharm": {
   "stem_cell": {
    "cell_type": "raw",
    "metadata": {
     "collapsed": false
    },
    "source": []
   }
  }
 },
 "nbformat": 4,
 "nbformat_minor": 2
}
